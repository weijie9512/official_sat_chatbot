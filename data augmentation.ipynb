{
 "cells": [
  {
   "cell_type": "code",
   "execution_count": 1,
   "metadata": {},
   "outputs": [],
   "source": [
    "from prepare_data import paraphrase"
   ]
  },
  {
   "cell_type": "code",
   "execution_count": 2,
   "metadata": {},
   "outputs": [],
   "source": [
    "import torch\n",
    "import pandas as pd"
   ]
  },
  {
   "cell_type": "code",
   "execution_count": 3,
   "metadata": {},
   "outputs": [],
   "source": [
    "df = pd.read_csv(\"questionbank.csv\", index_col=0)"
   ]
  },
  {
   "cell_type": "code",
   "execution_count": 4,
   "metadata": {},
   "outputs": [
    {
     "data": {
      "text/html": [
       "<div>\n",
       "<style scoped>\n",
       "    .dataframe tbody tr th:only-of-type {\n",
       "        vertical-align: middle;\n",
       "    }\n",
       "\n",
       "    .dataframe tbody tr th {\n",
       "        vertical-align: top;\n",
       "    }\n",
       "\n",
       "    .dataframe thead th {\n",
       "        text-align: right;\n",
       "    }\n",
       "</style>\n",
       "<table border=\"1\" class=\"dataframe\">\n",
       "  <thead>\n",
       "    <tr style=\"text-align: right;\">\n",
       "      <th></th>\n",
       "      <th>part</th>\n",
       "      <th>questioncode</th>\n",
       "      <th>question</th>\n",
       "    </tr>\n",
       "    <tr>\n",
       "      <th>no</th>\n",
       "      <th></th>\n",
       "      <th></th>\n",
       "      <th></th>\n",
       "    </tr>\n",
       "  </thead>\n",
       "  <tbody>\n",
       "    <tr>\n",
       "      <th>1</th>\n",
       "      <td>before main node</td>\n",
       "      <td>A01</td>\n",
       "      <td>How do you feel?</td>\n",
       "    </tr>\n",
       "    <tr>\n",
       "      <th>2</th>\n",
       "      <td>before main node</td>\n",
       "      <td>A02</td>\n",
       "      <td>Can I know if the predicted emotion is correct?</td>\n",
       "    </tr>\n",
       "    <tr>\n",
       "      <th>3</th>\n",
       "      <td>before main node</td>\n",
       "      <td>A03</td>\n",
       "      <td>Is the emotion positive or negative?</td>\n",
       "    </tr>\n",
       "    <tr>\n",
       "      <th>4</th>\n",
       "      <td>before main node</td>\n",
       "      <td>A04</td>\n",
       "      <td>Let us practice Exercise 13 to overcome negati...</td>\n",
       "    </tr>\n",
       "    <tr>\n",
       "      <th>5</th>\n",
       "      <td>before main node</td>\n",
       "      <td>A05</td>\n",
       "      <td>Do you feel compassionate toward your childhoo...</td>\n",
       "    </tr>\n",
       "  </tbody>\n",
       "</table>\n",
       "</div>"
      ],
      "text/plain": [
       "                 part questioncode  \\\n",
       "no                                   \n",
       "1    before main node          A01   \n",
       "2    before main node          A02   \n",
       "3    before main node          A03   \n",
       "4    before main node          A04   \n",
       "5    before main node          A05   \n",
       "\n",
       "                                             question  \n",
       "no                                                     \n",
       "1                                    How do you feel?  \n",
       "2     Can I know if the predicted emotion is correct?  \n",
       "3                Is the emotion positive or negative?  \n",
       "4   Let us practice Exercise 13 to overcome negati...  \n",
       "5   Do you feel compassionate toward your childhoo...  "
      ]
     },
     "execution_count": 4,
     "metadata": {},
     "output_type": "execute_result"
    }
   ],
   "source": [
    "df.head()"
   ]
  },
  {
   "cell_type": "code",
   "execution_count": 5,
   "metadata": {},
   "outputs": [
    {
     "name": "stdout",
     "output_type": "stream",
     "text": [
      "Is the emotion positive or negative?\n"
     ]
    }
   ],
   "source": [
    "input_sentence = df.iloc[2]['question']\n",
    "print(input_sentence)"
   ]
  },
  {
   "cell_type": "markdown",
   "metadata": {},
   "source": [
    "## Paraphrase Machine"
   ]
  },
  {
   "cell_type": "code",
   "execution_count": 3,
   "metadata": {},
   "outputs": [],
   "source": [
    "pm = paraphrase.ParaphraseMachine()"
   ]
  },
  {
   "cell_type": "code",
   "execution_count": 6,
   "metadata": {},
   "outputs": [
    {
     "ename": "NameError",
     "evalue": "name 'pm' is not defined",
     "output_type": "error",
     "traceback": [
      "\u001b[0;31m---------------------------------------------------------------------------\u001b[0m",
      "\u001b[0;31mNameError\u001b[0m                                 Traceback (most recent call last)",
      "\u001b[1;32m/Users/weijiechua/Desktop/ImperialClasses/Courses/thirdterm/individual/official/official_sat_chatbot/data augmentation.ipynb Cell 8\u001b[0m in \u001b[0;36m<cell line: 1>\u001b[0;34m()\u001b[0m\n\u001b[0;32m----> <a href='vscode-notebook-cell:/Users/weijiechua/Desktop/ImperialClasses/Courses/thirdterm/individual/official/official_sat_chatbot/data%20augmentation.ipynb#ch0000007?line=0'>1</a>\u001b[0m generated_sentence \u001b[39m=\u001b[39m pm\u001b[39m.\u001b[39mparaphrase(input_sentence, num_of_sentences\u001b[39m=\u001b[39m\u001b[39m5\u001b[39m)\n\u001b[1;32m      <a href='vscode-notebook-cell:/Users/weijiechua/Desktop/ImperialClasses/Courses/thirdterm/individual/official/official_sat_chatbot/data%20augmentation.ipynb#ch0000007?line=1'>2</a>\u001b[0m \u001b[39mprint\u001b[39m(generated_sentence)\n",
      "\u001b[0;31mNameError\u001b[0m: name 'pm' is not defined"
     ]
    }
   ],
   "source": [
    "generated_sentence = pm.paraphrase(input_sentence, num_of_sentences=5)\n",
    "print(generated_sentence)"
   ]
  },
  {
   "cell_type": "markdown",
   "metadata": {},
   "source": [
    "## Backtranslation"
   ]
  },
  {
   "cell_type": "code",
   "execution_count": 7,
   "metadata": {},
   "outputs": [
    {
     "name": "stderr",
     "output_type": "stream",
     "text": [
      "/Users/weijiechua/miniforge3/envs/gen/lib/python3.8/site-packages/transformers/models/marian/tokenization_marian.py:198: UserWarning: Recommended: pip install sacremoses.\n",
      "  warnings.warn(\"Recommended: pip install sacremoses.\")\n"
     ]
    }
   ],
   "source": [
    "bm = paraphrase.BacktranslationMachine()"
   ]
  },
  {
   "cell_type": "code",
   "execution_count": 12,
   "metadata": {},
   "outputs": [
    {
     "name": "stdout",
     "output_type": "stream",
     "text": [
      "['Amazing! Do you feel you want to protect your childhood self, or do you think that it is time for your childhood self to grow up and face hardships?']\n"
     ]
    }
   ],
   "source": [
    "input_sentence = [df.iloc[5]['question']]\n",
    "print(input_sentence)"
   ]
  },
  {
   "cell_type": "code",
   "execution_count": 13,
   "metadata": {},
   "outputs": [
    {
     "name": "stdout",
     "output_type": "stream",
     "text": [
      "[\"Do you feel you want to protect your self from childhood, or do you think it's time for your childhood self to grow up and face difficulties?\"]\n"
     ]
    }
   ],
   "source": [
    "#input_sentence = [\"This is fine! This is exactly the reason this chatbot is created! We aim to develop compassion for you! Let us begin! \"]\n",
    "generated_sentence = bm.backtranslation(input_sentence)\n",
    "print(generated_sentence)"
   ]
  },
  {
   "cell_type": "markdown",
   "metadata": {},
   "source": []
  }
 ],
 "metadata": {
  "kernelspec": {
   "display_name": "Python 3.8.13 ('gen')",
   "language": "python",
   "name": "python3"
  },
  "language_info": {
   "codemirror_mode": {
    "name": "ipython",
    "version": 3
   },
   "file_extension": ".py",
   "mimetype": "text/x-python",
   "name": "python",
   "nbconvert_exporter": "python",
   "pygments_lexer": "ipython3",
   "version": "3.8.13"
  },
  "orig_nbformat": 4,
  "vscode": {
   "interpreter": {
    "hash": "9f7d6bfbbfb12035ddc13f1c3611686e65764e90c5bb4c604c9a5fa7456b9f5b"
   }
  }
 },
 "nbformat": 4,
 "nbformat_minor": 2
}
