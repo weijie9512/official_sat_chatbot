{
 "cells": [
  {
   "cell_type": "code",
   "execution_count": 1,
   "metadata": {},
   "outputs": [],
   "source": [
    "from prepare_data import paraphrase"
   ]
  },
  {
   "cell_type": "code",
   "execution_count": 1,
   "metadata": {},
   "outputs": [],
   "source": [
    "import torch\n",
    "import pandas as pd"
   ]
  },
  {
   "cell_type": "code",
   "execution_count": 14,
   "metadata": {},
   "outputs": [],
   "source": [
    "df = pd.read_csv(\"questionbank.csv\", index_col=\"questioncode\")"
   ]
  },
  {
   "cell_type": "code",
   "execution_count": 15,
   "metadata": {},
   "outputs": [
    {
     "data": {
      "text/html": [
       "<div>\n",
       "<style scoped>\n",
       "    .dataframe tbody tr th:only-of-type {\n",
       "        vertical-align: middle;\n",
       "    }\n",
       "\n",
       "    .dataframe tbody tr th {\n",
       "        vertical-align: top;\n",
       "    }\n",
       "\n",
       "    .dataframe thead th {\n",
       "        text-align: right;\n",
       "    }\n",
       "</style>\n",
       "<table border=\"1\" class=\"dataframe\">\n",
       "  <thead>\n",
       "    <tr style=\"text-align: right;\">\n",
       "      <th></th>\n",
       "      <th>no</th>\n",
       "      <th>part</th>\n",
       "      <th>question</th>\n",
       "      <th>rewriting</th>\n",
       "    </tr>\n",
       "    <tr>\n",
       "      <th>questioncode</th>\n",
       "      <th></th>\n",
       "      <th></th>\n",
       "      <th></th>\n",
       "      <th></th>\n",
       "    </tr>\n",
       "  </thead>\n",
       "  <tbody>\n",
       "    <tr>\n",
       "      <th>A01</th>\n",
       "      <td>1.0</td>\n",
       "      <td>before main node</td>\n",
       "      <td>How do you feel?</td>\n",
       "      <td>How are you feeling today?</td>\n",
       "    </tr>\n",
       "    <tr>\n",
       "      <th>A02</th>\n",
       "      <td>2.0</td>\n",
       "      <td>before main node</td>\n",
       "      <td>Can I know if the predicted emotion is correct?</td>\n",
       "      <td>Do I guess your emotion correctly?</td>\n",
       "    </tr>\n",
       "    <tr>\n",
       "      <th>A03</th>\n",
       "      <td>3.0</td>\n",
       "      <td>before main node</td>\n",
       "      <td>Is the emotion positive or negative?</td>\n",
       "      <td>NaN</td>\n",
       "    </tr>\n",
       "    <tr>\n",
       "      <th>A04</th>\n",
       "      <td>4.0</td>\n",
       "      <td>before main node</td>\n",
       "      <td>Let us practice Exercise 13 to overcome negati...</td>\n",
       "      <td>NaN</td>\n",
       "    </tr>\n",
       "    <tr>\n",
       "      <th>A05</th>\n",
       "      <td>5.0</td>\n",
       "      <td>before main node</td>\n",
       "      <td>Do you feel compassionate toward your childhoo...</td>\n",
       "      <td>NaN</td>\n",
       "    </tr>\n",
       "  </tbody>\n",
       "</table>\n",
       "</div>"
      ],
      "text/plain": [
       "               no               part  \\\n",
       "questioncode                           \n",
       "A01           1.0   before main node   \n",
       "A02           2.0   before main node   \n",
       "A03           3.0   before main node   \n",
       "A04           4.0   before main node   \n",
       "A05           5.0   before main node   \n",
       "\n",
       "                                                       question  \\\n",
       "questioncode                                                      \n",
       "A01                                            How do you feel?   \n",
       "A02             Can I know if the predicted emotion is correct?   \n",
       "A03                        Is the emotion positive or negative?   \n",
       "A04           Let us practice Exercise 13 to overcome negati...   \n",
       "A05           Do you feel compassionate toward your childhoo...   \n",
       "\n",
       "                                       rewriting  \n",
       "questioncode                                      \n",
       "A01                   How are you feeling today?  \n",
       "A02           Do I guess your emotion correctly?  \n",
       "A03                                          NaN  \n",
       "A04                                          NaN  \n",
       "A05                                          NaN  "
      ]
     },
     "execution_count": 15,
     "metadata": {},
     "output_type": "execute_result"
    }
   ],
   "source": [
    "df.head()"
   ]
  },
  {
   "cell_type": "code",
   "execution_count": 5,
   "metadata": {},
   "outputs": [
    {
     "name": "stdout",
     "output_type": "stream",
     "text": [
      "Is the emotion positive or negative?\n"
     ]
    }
   ],
   "source": [
    "input_sentence = df.iloc[2]['question']\n",
    "print(input_sentence)"
   ]
  },
  {
   "cell_type": "code",
   "execution_count": 4,
   "metadata": {},
   "outputs": [
    {
     "data": {
      "text/plain": [
       "Index(['part', 'questioncode', 'question', 'rewriting'], dtype='object')"
      ]
     },
     "execution_count": 4,
     "metadata": {},
     "output_type": "execute_result"
    }
   ],
   "source": [
    "df.columns"
   ]
  },
  {
   "cell_type": "code",
   "execution_count": 10,
   "metadata": {},
   "outputs": [],
   "source": [
    "df = df.set_index(\"questioncode\")"
   ]
  },
  {
   "cell_type": "code",
   "execution_count": 13,
   "metadata": {},
   "outputs": [
    {
     "data": {
      "text/plain": [
       "'Let us practice Exercise 13 to overcome negative emotions.'"
      ]
     },
     "execution_count": 13,
     "metadata": {},
     "output_type": "execute_result"
    }
   ],
   "source": [
    "df.loc[\"A04\"]['question']"
   ]
  },
  {
   "cell_type": "markdown",
   "metadata": {},
   "source": [
    "## Paraphrase Machine"
   ]
  },
  {
   "cell_type": "code",
   "execution_count": 3,
   "metadata": {},
   "outputs": [],
   "source": [
    "pm = paraphrase.ParaphraseMachine()"
   ]
  },
  {
   "cell_type": "code",
   "execution_count": 6,
   "metadata": {},
   "outputs": [
    {
     "ename": "NameError",
     "evalue": "name 'pm' is not defined",
     "output_type": "error",
     "traceback": [
      "\u001b[0;31m---------------------------------------------------------------------------\u001b[0m",
      "\u001b[0;31mNameError\u001b[0m                                 Traceback (most recent call last)",
      "\u001b[1;32m/Users/weijiechua/Desktop/ImperialClasses/Courses/thirdterm/individual/official/official_sat_chatbot/data augmentation.ipynb Cell 8\u001b[0m in \u001b[0;36m<cell line: 1>\u001b[0;34m()\u001b[0m\n\u001b[0;32m----> <a href='vscode-notebook-cell:/Users/weijiechua/Desktop/ImperialClasses/Courses/thirdterm/individual/official/official_sat_chatbot/data%20augmentation.ipynb#ch0000007?line=0'>1</a>\u001b[0m generated_sentence \u001b[39m=\u001b[39m pm\u001b[39m.\u001b[39mparaphrase(input_sentence, num_of_sentences\u001b[39m=\u001b[39m\u001b[39m5\u001b[39m)\n\u001b[1;32m      <a href='vscode-notebook-cell:/Users/weijiechua/Desktop/ImperialClasses/Courses/thirdterm/individual/official/official_sat_chatbot/data%20augmentation.ipynb#ch0000007?line=1'>2</a>\u001b[0m \u001b[39mprint\u001b[39m(generated_sentence)\n",
      "\u001b[0;31mNameError\u001b[0m: name 'pm' is not defined"
     ]
    }
   ],
   "source": [
    "generated_sentence = pm.paraphrase(input_sentence, num_of_sentences=5)\n",
    "print(generated_sentence)"
   ]
  },
  {
   "cell_type": "markdown",
   "metadata": {},
   "source": [
    "## Backtranslation"
   ]
  },
  {
   "cell_type": "code",
   "execution_count": 7,
   "metadata": {},
   "outputs": [],
   "source": [
    "bm = paraphrase.BacktranslationMachine(src=\"en\", tgt=\"zh\")"
   ]
  },
  {
   "cell_type": "code",
   "execution_count": 8,
   "metadata": {},
   "outputs": [
    {
     "name": "stdout",
     "output_type": "stream",
     "text": [
      "['Amazing! Do you feel you want to protect your childhood self, or do you think that it is time for your childhood self to grow up and face hardships?']\n"
     ]
    }
   ],
   "source": [
    "input_sentence = [df.iloc[5]['question']]\n",
    "print(input_sentence)"
   ]
  },
  {
   "cell_type": "code",
   "execution_count": 9,
   "metadata": {},
   "outputs": [
    {
     "name": "stdout",
     "output_type": "stream",
     "text": [
      "[\"Do you feel like you want to protect yourself from childhood, or do you think it's time to make your childhood grow up and face difficulties?\"]\n"
     ]
    }
   ],
   "source": [
    "#input_sentence = [\"This is fine! This is exactly the reason this chatbot is created! We aim to develop compassion for you! Let us begin! \"]\n",
    "generated_sentence = bm.backtranslation(input_sentence)\n",
    "print(generated_sentence)"
   ]
  }
 ],
 "metadata": {
  "kernelspec": {
   "display_name": "Python 3 (ipykernel)",
   "language": "python",
   "name": "python3"
  },
  "language_info": {
   "codemirror_mode": {
    "name": "ipython",
    "version": 3
   },
   "file_extension": ".py",
   "mimetype": "text/x-python",
   "name": "python",
   "nbconvert_exporter": "python",
   "pygments_lexer": "ipython3",
   "version": "3.8.13"
  },
  "vscode": {
   "interpreter": {
    "hash": "9f7d6bfbbfb12035ddc13f1c3611686e65764e90c5bb4c604c9a5fa7456b9f5b"
   }
  }
 },
 "nbformat": 4,
 "nbformat_minor": 2
}
