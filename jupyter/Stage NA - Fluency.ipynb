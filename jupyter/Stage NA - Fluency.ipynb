{
 "cells": [
  {
   "cell_type": "code",
   "execution_count": 14,
   "id": "c9af98b8",
   "metadata": {},
   "outputs": [
    {
     "name": "stderr",
     "output_type": "stream",
     "text": [
      "/Users/weijiechua/miniforge3/envs/gen/lib/python3.8/site-packages/torchvision/io/image.py:13: UserWarning: Failed to load image Python extension: dlopen(/Users/weijiechua/miniforge3/envs/gen/lib/python3.8/site-packages/torchvision/image.so, 0x0006): Library not loaded: @rpath/libpng16.16.dylib\n",
      "  Referenced from: /Users/weijiechua/miniforge3/envs/gen/lib/python3.8/site-packages/torchvision/image.so\n",
      "  Reason: tried: '/Users/weijiechua/miniforge3/envs/gen/lib/python3.8/lib-dynload/../../libpng16.16.dylib' (no such file), '/Users/weijiechua/miniforge3/envs/gen/bin/../lib/libpng16.16.dylib' (no such file), '/usr/local/lib/libpng16.16.dylib' (no such file), '/usr/lib/libpng16.16.dylib' (no such file)\n",
      "  warn(f\"Failed to load image Python extension: {e}\")\n",
      "[nltk_data] Downloading package stopwords to\n",
      "[nltk_data]     /Users/weijiechua/nltk_data...\n",
      "[nltk_data]   Package stopwords is already up-to-date!\n"
     ]
    }
   ],
   "source": [
    "import pytorch_lightning as pl\n",
    "import textdistance as td\n",
    "import numpy as np\n",
    "import argparse\n",
    "import torch\n",
    "from torch import nn\n",
    "import torch.nn.functional as F\n",
    "import re\n",
    "import nltk\n",
    "nltk.download(\"stopwords\")\n",
    "from nltk.corpus import stopwords\n",
    "\n",
    "from tokenizers import ByteLevelBPETokenizer\n",
    "\n",
    "from tokenizers.processors import BertProcessing\n",
    "import pandas as pd\n",
    "\n",
    "\n",
    "\n",
    "from transformers import (\n",
    "\n",
    "    GPT2Tokenizer,\n",
    "    GPT2LMHeadModel\n",
    ")\n",
    "\n",
    "from transformers import (\n",
    "\n",
    "    GPT2Tokenizer,\n",
    "    GPT2LMHeadModel,\n",
    "\n",
    ")"
   ]
  },
  {
   "cell_type": "code",
   "execution_count": 49,
   "id": "8c32b025",
   "metadata": {},
   "outputs": [],
   "source": [
    "import numpy as np"
   ]
  },
  {
   "cell_type": "code",
   "execution_count": 15,
   "id": "cf86c587",
   "metadata": {},
   "outputs": [],
   "source": [
    "from transformers import (\n",
    "\n",
    "    GPT2Tokenizer,\n",
    "    GPT2LMHeadModel\n",
    ")\n",
    "\n",
    "from transformers import (\n",
    "\n",
    "    GPT2Tokenizer,\n",
    "    GPT2LMHeadModel,\n",
    "\n",
    ")\n",
    "\n",
    "#Load pre-trained GPT2 language model weights\n",
    "with torch.no_grad():\n",
    "    gptmodel = GPT2LMHeadModel.from_pretrained('gpt2')\n",
    "    gptmodel.eval()\n",
    "\n",
    "#Load pre-trained GPT2 tokenizer\n",
    "gpttokenizer = GPT2Tokenizer.from_pretrained('gpt2')\n",
    "\n",
    "#simple tokenizer + stemmer\n",
    "regextokenizer = nltk.tokenize.RegexpTokenizer(r'\\w+')\n",
    "stemmer = nltk.stem.PorterStemmer()\n",
    "\n"
   ]
  },
  {
   "cell_type": "code",
   "execution_count": 20,
   "id": "4517872c",
   "metadata": {},
   "outputs": [],
   "source": [
    "def perplexity(sentence):\n",
    "    tokenize_input = gpttokenizer.encode(sentence)\n",
    "    tensor_input = torch.tensor([tokenize_input])\n",
    "    with torch.no_grad():\n",
    "        loss = gptmodel(tensor_input, labels=tensor_input)[0]\n",
    "    return np.exp(loss.detach().numpy())\n",
    "\n",
    "\n",
    "def repetition_penalty(sentence):\n",
    "    word_list = regextokenizer.tokenize(sentence.lower())\n",
    "    filtered_words = [word for word in word_list if word not in stopwords.words('english')]\n",
    "    stem_list = [stemmer.stem(word) for word in filtered_words]\n",
    "    penalty = 0\n",
    "    visited = []\n",
    "    for w in stem_list:\n",
    "        if w not in visited:\n",
    "            visited.append(w)\n",
    "        else:\n",
    "            penalty += 0.01\n",
    "    return penalty\n",
    "\n",
    "\n",
    "def fluency_score(sentence):\n",
    "    ppl = perplexity(sentence)\n",
    "    penalty = repetition_penalty(sentence)\n",
    "    score = (1 / ppl) - penalty\n",
    "    return score"
   ]
  },
  {
   "cell_type": "code",
   "execution_count": 28,
   "id": "354f51e0",
   "metadata": {},
   "outputs": [
    {
     "data": {
      "text/plain": [
       "0.012032980899460548"
      ]
     },
     "execution_count": 28,
     "metadata": {},
     "output_type": "execute_result"
    }
   ],
   "source": [
    "fluency_score(\"hello are you feeling?\")"
   ]
  },
  {
   "cell_type": "code",
   "execution_count": 72,
   "id": "67377511",
   "metadata": {},
   "outputs": [],
   "source": [
    "df = pd.read_excel(\"../data/survey_data/combined_data/sat_data_combined.xlsx\", index_col=0)"
   ]
  },
  {
   "cell_type": "code",
   "execution_count": 74,
   "id": "c17e538c",
   "metadata": {},
   "outputs": [],
   "source": [
    "df = df.iloc[:10]"
   ]
  },
  {
   "cell_type": "code",
   "execution_count": 75,
   "id": "b8f02a7f",
   "metadata": {},
   "outputs": [],
   "source": [
    "df_col = list(df['A01'].dropna().values)"
   ]
  },
  {
   "cell_type": "code",
   "execution_count": 76,
   "id": "a8701f7d",
   "metadata": {},
   "outputs": [],
   "source": [
    "curr_sentence = df_col[0]"
   ]
  },
  {
   "cell_type": "code",
   "execution_count": 77,
   "id": "5f766952",
   "metadata": {},
   "outputs": [],
   "source": [
    "prev_df = pd.DataFrame([curr_sentence],columns=['sentences'])"
   ]
  },
  {
   "cell_type": "code",
   "execution_count": 78,
   "id": "969ec569",
   "metadata": {},
   "outputs": [],
   "source": [
    "prev_df['score'] = 0"
   ]
  },
  {
   "cell_type": "code",
   "execution_count": 79,
   "id": "f06642b6",
   "metadata": {},
   "outputs": [
    {
     "data": {
      "text/html": [
       "<div>\n",
       "<style scoped>\n",
       "    .dataframe tbody tr th:only-of-type {\n",
       "        vertical-align: middle;\n",
       "    }\n",
       "\n",
       "    .dataframe tbody tr th {\n",
       "        vertical-align: top;\n",
       "    }\n",
       "\n",
       "    .dataframe thead th {\n",
       "        text-align: right;\n",
       "    }\n",
       "</style>\n",
       "<table border=\"1\" class=\"dataframe\">\n",
       "  <thead>\n",
       "    <tr style=\"text-align: right;\">\n",
       "      <th></th>\n",
       "      <th>sentences</th>\n",
       "      <th>score</th>\n",
       "    </tr>\n",
       "  </thead>\n",
       "  <tbody>\n",
       "    <tr>\n",
       "      <th>0</th>\n",
       "      <td>How do you feel?</td>\n",
       "      <td>0</td>\n",
       "    </tr>\n",
       "  </tbody>\n",
       "</table>\n",
       "</div>"
      ],
      "text/plain": [
       "          sentences  score\n",
       "0  How do you feel?      0"
      ]
     },
     "execution_count": 79,
     "metadata": {},
     "output_type": "execute_result"
    }
   ],
   "source": [
    "prev_df"
   ]
  },
  {
   "cell_type": "code",
   "execution_count": 80,
   "id": "4c8f361e",
   "metadata": {},
   "outputs": [],
   "source": [
    "df_columns  = df.columns"
   ]
  },
  {
   "cell_type": "code",
   "execution_count": 81,
   "id": "01e02e64",
   "metadata": {},
   "outputs": [
    {
     "name": "stdout",
     "output_type": "stream",
     "text": [
      "==============================Current column: {col}=======================================\n",
      "Best sentence: How are you feeling right now?, 0.14\n",
      "==============================Current column: {col}=======================================\n",
      "Best sentence: Do you think this is how you feel at this time?, 0.06\n",
      "==============================Current column: {col}=======================================\n",
      "Best sentence: Would you say the emotion is positive or negative?, 0.04\n",
      "==============================Current column: {col}=======================================\n",
      "Best sentence: Now, let's take a moment to go through Exercise 9 so that I can help you better understand how to overcome any negative feelings that you might be experiencing., 0.05\n",
      "==============================Current column: {col}=======================================\n",
      "Best sentence: Do you feel like you are compassionate towards your childhood self?, 0.02\n",
      "==============================Current column: {col}=======================================\n",
      "Best sentence: That's great! Do you feel like you want to protect your childhood self, or do you think that it is time for your childhood self to grow up and face hardships?, 0.03\n",
      "==============================Current column: {col}=======================================\n",
      "Best sentence: Good news! You have clearly demonstrated some tender compassion. Tender compassion is the first step whereby you are able to sympathise with the victim. This shows that you have a strong desire to help the victim as you feel sorry for the circumstances that they are in., 0.01\n",
      "==============================Current column: {col}=======================================\n",
      "Best sentence: Congrats! You displayed foresighted compassion towards your childhood self. Instead of just feeling sympathy, this helps you think about how to help others in the long term., 0.00\n",
      "==============================Current column: {col}=======================================\n",
      "Best sentence: Congrats! You displayed foresighted compassion towards your childhood self. Instead of just feeling sympathy, this helps you think about how to help others in the long term., 0.00\n",
      "==============================Current column: {col}=======================================\n",
      "Best sentence: Why don't we put your compassion skills to good use? At the MAIN NODE, please navigate to Awareness, Understanding, Commitments (AUC) to begin your journey in improving the lives of the people around us!, 0.01\n",
      "==============================Current column: {col}=======================================\n",
      "Best sentence: Before we start, I would like to share that the main goal of this activity is to help you develop compassion., 0.06\n",
      "==============================Current column: {col}=======================================\n",
      "Best sentence: You understand that there are 2 types of compassion? Tender compassion is more common, where we simply feel sorry towards people suffering from unfortunate events. Meanwhile, foresighted goes beyond that by us wanting to make a difference to help the victims. Need an example?, 0.00\n",
      "==============================Current column: {col}=======================================\n",
      "Best sentence: Don't worry, we're here to help! We'll be with you every step of the way in your compassion journey. Let's get started!, 0.10\n",
      "==============================Current column: {col}=======================================\n",
      "Best sentence: Do you feel closer to your childhood self now?, 0.03\n",
      "==============================Current column: {col}=======================================\n",
      "Best sentence: Amazing! You have accomplished the first goal! However, we are still not exactly there. Are you ready to take your relationship with your childhood self to the next level?, 0.04\n",
      "==============================Current column: {col}=======================================\n",
      "Best sentence: Let's do a quick check-in. How are we doing? Would you like to proceed with ESA or come back to it another time?, 0.03\n",
      "==============================Current column: {col}=======================================\n",
      "Best sentence: I'm proud of you! You've managed to form a deeper connection with the child. In the next exercises 3, 4, and 5, you'll be able to give your childhood self some love through music, expressions of love, care and support., 0.03\n",
      "==============================Current column: {col}=======================================\n",
      "Best sentence: Are you filled with love? Do you feel a stronger need to protect your childhood self?, 0.03\n",
      "==============================Current column: {col}=======================================\n",
      "Best sentence: Congratulations! You've shown tender compassion, which is the first stage of compassion where one shows sympathy towards another. Now, let's see what we can do from here., 0.02\n",
      "==============================Current column: {col}=======================================\n",
      "Best sentence: To feel compassion towards the childhood self, first we have to become intimate with them. Let's practice exercises 1 and 2 for that., 0.01\n",
      "==============================Current column: {col}=======================================\n",
      "Best sentence: What type of compassion do you tend to express towards your childhood self? Do you think it is tender compassion, an immediate response, or foresighted compassion, where you aim for long-term effects?, 0.01\n",
      "==============================Current column: {col}=======================================\n",
      "Best sentence: You're a natural! You're doing great right from the beginning! Let's keep the momentum going with SAT protocols., 0.02\n",
      "==============================Current column: {col}=======================================\n",
      "Best sentence: You're a natural! You're doing great right from the beginning! Let's keep the momentum going with SAT protocols., 0.00\n",
      "==============================Current column: {col}=======================================\n",
      "Best sentence: Do you feel like you are ready to help them?, 0.06\n",
      "==============================Current column: {col}=======================================\n",
      "Best sentence: I would like to hear more from you. Do you think they do not deserve any help, or you don't feel compassion for them?, 0.06\n",
      "==============================Current column: {col}=======================================\n",
      "Best sentence: Let's take a moment to reflect and deepen our relationship with our childhood self., 0.04\n",
      "==============================Current column: {col}=======================================\n",
      "Best sentence: Wait a moment and start to think back. Now that you have nurtured a soft compassion towards your childhood self, let us do exercise 15 (to switch our outlook)., 0.01\n",
      "==============================Current column: {col}=======================================\n",
      "Best sentence: Now close your eyes, and imagine that you're part of that vulnerable community. Do you think that you deserve other people's help?, 0.05\n",
      "==============================Current column: {col}=======================================\n",
      "Best sentence: There must have been a cause as to why the people in a vulnerable community are in such a state. Ruminate on that. Now, do you feel like you should help them?, 0.03\n",
      "==============================Current column: {col}=======================================\n",
      "Best sentence: Let's turn the focus back to you. Do you think that you have the obligation to help these vulnerable societies?, 0.04\n",
      "==============================Current column: {col}=======================================\n",
      "Best sentence: Awesome work! If you are satisfied with your level of foresighted compassion, why don't we do a little test to see where you stand?, 0.02\n",
      "==============================Current column: {col}=======================================\n",
      "Best sentence: Let's move on to Exercise 8., 0.02\n",
      "==============================Current column: {col}=======================================\n",
      "Best sentence: What do you think you should do to help them?, 0.08\n",
      "==============================Current column: {col}=======================================\n",
      "Best sentence: Interesting! It seems like you have foresighted compassion and you probably anticipate the child to handle the issue in a mature manner. You are able to come up with permanent solutions that are beneficial in the long run. Now, let's proceed to MAIN NODE. , 0.02\n",
      "==============================Current column: {col}=======================================\n"
     ]
    },
    {
     "name": "stdout",
     "output_type": "stream",
     "text": [
      "Best sentence: Now think about this. Sometimes children make unreasonable requests. When they don't get it, they will be upset. It is the responsibility of our adult self to teach them to bear with it, and deal with the situation with maturity. Let us practice exercises 17 and 18 (Identifying personal resentments and committing to constructive actions), 0.02\n",
      "==============================Current column: {col}=======================================\n",
      "Best sentence: Have you ever felt that the best possible choice of action may not be your first instinct or something that the childhood self wants, but instead a process that requires a degree of discipline or maturity?, 0.02\n",
      "==============================Current column: {col}=======================================\n",
      "Best sentence: Amazing work! You have proven that you exhibit foresighted compassion, and now it's time to utilise it. Navigate to AUC to learn what you can do by clicking MAIN NODE., 0.01\n",
      "==============================Current column: {col}=======================================\n",
      "Best sentence: This suggests that there might be some anti-social behaviour. Let's look into this further., 0.06\n",
      "==============================Current column: {col}=======================================\n",
      "Best sentence: Is there anyone in your life that you feel some sort of resentment towards?, 0.06\n",
      "==============================Current column: {col}=======================================\n",
      "Best sentence: Do you care about things that are happening the people around you (e.g., your friends and family)?, 0.05\n",
      "==============================Current column: {col}=======================================\n",
      "Best sentence: Are you aware of what's going on in your local community? What local activities have you participated in?, 0.06\n",
      "==============================Current column: {col}=======================================\n",
      "Best sentence: Do you care what's happening on the other side of the world?, 0.10\n",
      "==============================Current column: {col}=======================================\n",
      "Best sentence: Amazing! Are you compassionate about what's happening on the other side of the world?, 0.04\n",
      "==============================Current column: {col}=======================================\n",
      "Best sentence: You've done a great job so far! Now let us go back to the question about vulnerable communities. , 0.03\n",
      "==============================Current column: {col}=======================================\n",
      "Best sentence: Let's familiarise ourselves with the different levels of anti-social behaviour. Go through exercises 17 and 18., 0.02\n",
      "==============================Current column: {col}=======================================\n",
      "Best sentence: Do you feel like you care more about the environment around you?, 0.06\n",
      "==============================Current column: {col}=======================================\n",
      "Best sentence: Are you following through on the actions you took last week? What are your feelings right now?, 0.05\n",
      "==============================Current column: {col}=======================================\n",
      "Best sentence: Choose one of the following news categories to start., 0.02\n",
      "==============================Current column: {col}=======================================\n",
      "Best sentence: After reading the story, how does it make you feel?, 0.07\n",
      "==============================Current column: {col}=======================================\n",
      "Best sentence: Can you tell me why you don't feel anything?, 0.07\n",
      "==============================Current column: {col}=======================================\n",
      "Best sentence: It is possible that the compassion trait is not yet fully developed. Don't worry. Let us move back to SAT protocols., 0.01\n",
      "==============================Current column: {col}=======================================\n",
      "Best sentence: If you feel bad for unfortunate people, and you want to help them with some actions that can alleviate their suffering immediately, you have shown tender compassion! That is a good place to start., 0.02\n",
      "==============================Current column: {col}=======================================\n",
      "Best sentence: Let us do a quick test. Which of the following solutions do you think is a form of foresighted compassion for climate change?, 0.02\n",
      "==============================Current column: {col}=======================================\n",
      "Best sentence: Let us do a quick test. Which of the following solutions do you think is a form of foresighted compassion for climate change?, 0.00\n",
      "==============================Current column: {col}=======================================\n",
      "Best sentence: Congratulations on being compassionate! Now that you understand the difference between tender and foresighted compassion, try to think and research how you can solve the problem that you have in mind with foresighted compassion. Come back in a week., 0.01\n",
      "==============================Current column: {col}=======================================\n",
      "Best sentence: Is there a solution that you have researched?, 0.03\n",
      "==============================Current column: {col}=======================================\n",
      "Best sentence: That's totally fine. Let's set a new deadline and come back to it later., 0.05\n",
      "==============================Current column: {col}=======================================\n",
      "Best sentence: Is there a better method to resolve this issue?, 0.06\n",
      "==============================Current column: {col}=======================================\n",
      "Best sentence: Think carefully about how you can achieve your goal. Remember to consider the long-term impact of the solution through foresighted compassion. Write down a detailed course of action., 0.02\n",
      "==============================Current column: {col}=======================================\n",
      "Best sentence: Did you follow through with your plan?, 0.04\n",
      "==============================Current column: {col}=======================================\n",
      "Best sentence: Think back to the second stage and try to figure out what went wrong., 0.06\n",
      "==============================Current column: {col}=======================================\n",
      "Best sentence: It is important to find a partner that you can go through this journey with, so that you can hold each other accountable. Get started as soon as today., 0.05\n",
      "==============================Current column: {col}=======================================\n",
      "Best sentence: How do you feel about your compassion energy? How do you feel about them? Write it down., 0.03\n",
      "==============================Current column: {col}=======================================\n",
      "Best sentence: Share about your experience and thoughts on your success. Talk about your ideas, actions, commitments, lessons learned, and your feelings about compassion energy., 0.02\n",
      "==============================Current column: {col}=======================================\n",
      "Best sentence: Thank you so much for taking part in this session, I really appreciate your time. I'll see you soon!, 0.12\n"
     ]
    }
   ],
   "source": [
    "#full_empathy_list = []\n",
    "full_fluency_list = []\n",
    "#full_novelty_list = []\n",
    "\n",
    "for i, col in enumerate(df_columns):\n",
    "    print(\"==============================Current column: {col}=======================================\")\n",
    "    possible_options = pd.DataFrame(df.loc[:, [col]].dropna())\n",
    "    best_score = 0\n",
    "    empathy_list = []\n",
    "    fluency_list = []\n",
    "    novelty_list = []\n",
    "    for index, row in possible_options.iterrows():\n",
    "        sentence = row.values[0]\n",
    "        #empathy = classifiers.empathy_score(sentence)\n",
    "        fluency = fluency_score(sentence)\n",
    "        #novelty = classifiers.novelty_score(sentence, prev_df)\n",
    "        #score = empathy + 0.75*fluency + 2*novelty\n",
    "        \n",
    "        #empathy_list.append(empathy.item())\n",
    "        fluency_list.append(fluency)\n",
    "        #novelty_list.append(novelty)\n",
    "        #score = classifiers.get_sentence_score(sentence, prev_df)\n",
    "        score = fluency\n",
    "        if score > best_score:\n",
    "            best_sentence = sentence\n",
    "            best_score = score\n",
    "    print(f\"Best sentence: {best_sentence}, {'{:.2f}'.format(best_score)}\")\n",
    "    best_score = best_score\n",
    "    s2 = pd.DataFrame.from_records([{\"sentences\": best_sentence, \"score\": best_score}])\n",
    "    prev_df = pd.concat([prev_df, s2], ignore_index=True)\n",
    "    #prev_df = prev_df.append({\"sentences\": best_sentence}, ignore_index=True)\n",
    "    \n",
    "    #full_empathy_list.append(empathy_list)\n",
    "    full_fluency_list.append(fluency_list)\n",
    "    #full_novelty_list.append(novelty_list)"
   ]
  },
  {
   "cell_type": "code",
   "execution_count": 104,
   "id": "e6fb9fd9",
   "metadata": {},
   "outputs": [],
   "source": [
    "import itertools\n",
    "full_fluency_list2 = list(itertools.chain(*full_fluency_list))"
   ]
  },
  {
   "cell_type": "code",
   "execution_count": 105,
   "id": "1eba5c5a",
   "metadata": {},
   "outputs": [],
   "source": [
    "full_fluency_list_np = np.array(full_fluency_list2)"
   ]
  },
  {
   "cell_type": "code",
   "execution_count": 106,
   "id": "efb6efe4",
   "metadata": {},
   "outputs": [
    {
     "data": {
      "text/plain": [
       "0.01397373243038269"
      ]
     },
     "execution_count": 106,
     "metadata": {},
     "output_type": "execute_result"
    }
   ],
   "source": [
    "np.mean(full_fluency_list_np)"
   ]
  },
  {
   "cell_type": "code",
   "execution_count": 107,
   "id": "d28979dc",
   "metadata": {},
   "outputs": [
    {
     "data": {
      "text/plain": [
       "0.13702384479858398"
      ]
     },
     "execution_count": 107,
     "metadata": {},
     "output_type": "execute_result"
    }
   ],
   "source": [
    "np.max(full_fluency_list_np)"
   ]
  },
  {
   "cell_type": "code",
   "execution_count": 108,
   "id": "cbda8f6c",
   "metadata": {},
   "outputs": [
    {
     "data": {
      "text/plain": [
       "-0.1016547866182059"
      ]
     },
     "execution_count": 108,
     "metadata": {},
     "output_type": "execute_result"
    }
   ],
   "source": [
    "np.min(full_fluency_list_np)"
   ]
  },
  {
   "cell_type": "code",
   "execution_count": 119,
   "id": "a2b3faad",
   "metadata": {},
   "outputs": [
    {
     "data": {
      "image/png": "[encoded data removed]",
      "text/plain": [
       "<Figure size 432x288 with 1 Axes>"
      ]
     },
     "metadata": {
      "needs_background": "light"
     },
     "output_type": "display_data"
    }
   ],
   "source": [
    "import matplotlib.pyplot as plt\n",
    "from matplotlib.ticker import PercentFormatter\n",
    "#_ = plt.hist(full_fluency_list_np, bins='auto')  # arguments are passed to np.histogram\n",
    "plt.hist(full_fluency_list_np, weights=np.ones(len(full_fluency_list_np)) / len(full_fluency_list_np))\n",
    "\n",
    "plt.gca().yaxis.set_major_formatter(PercentFormatter(1))\n",
    "plt.title(\"Fluency score, F(u) prior to normalisation\")\n",
    "#Text(0.5, 1.0, \"Histogram with 'auto' bins\")\n",
    "plt.show()"
   ]
  },
  {
   "cell_type": "code",
   "execution_count": 120,
   "id": "18310237",
   "metadata": {},
   "outputs": [
    {
     "data": {
      "text/plain": [
       "array([ 6.05267949e-02,  8.50652339e-02,  8.55693454e-02,  1.01596829e-01,\n",
       "        1.37023845e-01,  9.23225111e-02,  6.05267949e-02,  6.05267949e-02,\n",
       "        1.40360316e-02,  7.59662959e-02,  4.97913180e-03,  8.84342337e-04,\n",
       "        2.61010075e-02,  5.07069698e-03,  8.72996395e-04,  1.04884027e-03,\n",
       "        4.06490727e-02,  6.09264495e-02,  2.73158886e-02,  9.10080591e-03,\n",
       "        1.13049628e-02,  1.98925572e-02,  2.35485425e-02,  2.06164454e-02,\n",
       "        1.70944295e-02,  3.05942553e-02,  3.67985213e-02,  1.13049628e-02,\n",
       "        1.63405546e-02,  1.13049628e-02,  4.22495241e-03,  3.40956860e-03,\n",
       "        5.45404026e-02,  1.68317887e-02,  3.32971280e-03,  2.25029815e-03,\n",
       "        6.80213929e-03,  1.85003276e-02,  3.88758649e-03,  1.59098402e-02,\n",
       "        1.06811968e-02,  1.37282754e-02,  1.50036836e-02,  1.10163451e-02,\n",
       "        1.10163451e-02,  1.92371226e-02,  2.08393187e-02,  1.18100704e-02,\n",
       "        8.80400785e-03,  1.18100704e-02,  2.13239640e-02,  2.34802296e-02,\n",
       "       -4.44866143e-03,  2.77879187e-02,  3.15609666e-02, -1.05407112e-02,\n",
       "       -3.15354155e-03,  3.30332089e-02,  1.07366110e-02, -3.41125759e-03,\n",
       "       -3.01664232e-02, -1.96615761e-02,  9.05460514e-03,  4.52529754e-03,\n",
       "       -1.77735518e-02, -2.02242694e-02, -2.15738432e-02, -2.18391442e-02,\n",
       "       -1.61132710e-02, -7.00534321e-03, -4.41549927e-02, -2.44818165e-02,\n",
       "       -1.72675420e-02, -2.26787619e-02,  4.42270343e-03, -1.57551446e-02,\n",
       "       -3.05187908e-02, -3.28053131e-02, -3.75456993e-02,  2.31115806e-03,\n",
       "       -4.80224791e-02, -4.94144710e-02, -4.88152413e-03, -1.71018638e-02,\n",
       "       -1.54799205e-02, -2.01095785e-02, -3.35141401e-02, -7.58017466e-02,\n",
       "       -2.86266018e-02, -2.26034144e-03,  9.10604899e-04, -1.14580535e-02,\n",
       "        1.38804464e-02,  9.24459411e-03,  8.24167204e-03,  1.05767650e-02,\n",
       "       -7.53215721e-03,  9.10604899e-04,  9.60264964e-03, -1.22079988e-03,\n",
       "        1.82860128e-02,  2.13825665e-02,  2.56446578e-02,  3.33086091e-02,\n",
       "        3.34737458e-02,  2.16888716e-02,  1.82860128e-02,  1.82860128e-02,\n",
       "        5.72680411e-02,  1.54687727e-02, -4.62221204e-02, -6.15519516e-02,\n",
       "       -4.37371023e-03, -4.66517412e-02,  2.19753016e-03, -1.41783753e-02,\n",
       "       -7.28605240e-02, -4.72796314e-02, -4.72796314e-02, -3.35651269e-02,\n",
       "        1.36614719e-02,  1.38535869e-02,  9.50259492e-02,  4.04583075e-02,\n",
       "        1.57276394e-02,  1.25811156e-02,  1.20493613e-02,  1.36614719e-02,\n",
       "        3.49510840e-02,  7.20262256e-03,  8.38319179e-03,  9.32696848e-03,\n",
       "        1.68754902e-02,  2.57250201e-02,  1.68754902e-02,  3.20215966e-02,\n",
       "        1.75266945e-02,  1.54836582e-02,  1.41905168e-02,  2.42069648e-02,\n",
       "        2.89887959e-02,  3.28084487e-02,  1.94943353e-02,  3.68350370e-02,\n",
       "        1.72408962e-02,  4.06523853e-02,  4.06955678e-02,  3.88697374e-02,\n",
       "        2.65650695e-02,  3.57311046e-02,  3.77843658e-03,  1.48968572e-03,\n",
       "        3.17001871e-02,  2.82671515e-03,  1.69225168e-03,  1.68361949e-02,\n",
       "        3.77843658e-03,  3.77843658e-03,  2.56604805e-03,  1.73890894e-02,\n",
       "       -2.70322842e-02, -1.07620939e-02,  2.59131306e-02, -1.18307245e-02,\n",
       "       -1.61632884e-03, -3.62949967e-03, -1.73023592e-02, -2.54082013e-02,\n",
       "        8.53163534e-03,  8.53163534e-03,  8.52343372e-03,  1.73195868e-02,\n",
       "        2.98276194e-02,  1.30652709e-02,  4.57703876e-03,  1.56188687e-02,\n",
       "        8.87224621e-03,  1.05395352e-02,  1.03166803e-02,  1.54061142e-02,\n",
       "       -1.61886912e-02, -8.04797801e-03,  1.69787706e-02,  1.86557464e-02,\n",
       "        8.29292385e-03,  8.16793268e-03, -1.20924081e-03, -1.50719904e-02,\n",
       "        1.04328976e-03, -1.27361853e-02, -4.30626045e-02, -4.30626045e-02,\n",
       "       -4.30626045e-02,  1.31639392e-02, -4.52502028e-03, -9.78090162e-03,\n",
       "       -4.17975806e-02, -4.32950882e-02, -2.94935210e-02, -6.77771322e-03,\n",
       "       -1.50735686e-02, -1.86843464e-02,  2.13055785e-03, -1.37473489e-02,\n",
       "       -1.64869803e-02, -8.52164461e-03, -1.08512605e-02,  5.89885355e-03,\n",
       "       -8.84042975e-03,  2.13055785e-03,  2.59770836e-03, -2.68416130e-03,\n",
       "        1.70740476e-02,  9.57319966e-03,  2.20949109e-04,  1.04695949e-02,\n",
       "        9.04071522e-03,  6.96379318e-03,  6.61995713e-03,  1.70740476e-02,\n",
       "       -3.73882695e-02, -2.01130305e-02, -3.27115539e-02, -2.34872178e-02,\n",
       "       -1.32371737e-02, -3.73882695e-02, -3.73882695e-02, -2.86591449e-02,\n",
       "       -2.91760737e-02, -3.27115539e-02,  4.23952104e-02,  1.76947258e-02,\n",
       "        5.42536935e-02,  3.07481718e-02,  4.23952104e-02,  4.23952104e-02,\n",
       "        2.12966102e-02,  3.07481718e-02,  5.58719955e-02,  5.42536935e-02,\n",
       "        2.98704496e-02,  5.48063173e-02,  6.12165739e-02,  3.44614956e-02,\n",
       "        3.44614956e-02,  3.27456738e-02,  6.28401008e-02,  4.99540989e-02,\n",
       "        2.98704496e-02,  6.12165739e-02,  4.00640795e-02,  1.38179089e-02,\n",
       "        4.49605551e-02,  3.80405953e-02,  4.38330877e-02,  4.00640795e-02,\n",
       "        4.00640795e-02,  2.09691899e-02,  4.48244220e-02,  4.49605551e-02,\n",
       "        7.81034365e-03,  9.51325772e-03,  1.81823186e-03,  5.90489689e-03,\n",
       "        7.96133572e-03,  8.04884624e-03, -3.71015641e-03, -9.45187781e-03,\n",
       "        3.24830522e-03,  1.81823186e-03,  4.83191411e-02,  2.05096621e-02,\n",
       "        4.41468062e-02,  4.37664337e-02,  4.83191411e-02,  4.83191411e-02,\n",
       "        5.15724853e-02,  2.07725752e-02,  2.89726392e-02,  4.41468062e-02,\n",
       "        1.82451237e-03,  9.81719342e-03,  1.27586044e-02,  2.84021679e-02,\n",
       "        1.78472540e-02,  1.82451237e-03,  1.82451237e-03,  8.06050032e-03,\n",
       "        8.85389566e-03,  1.27586044e-02,  2.28287105e-02,  8.86042971e-03,\n",
       "        3.54979451e-02,  2.14615121e-02,  2.95766065e-02,  2.28287105e-02,\n",
       "        2.30014030e-02,  2.04528664e-02,  2.45992040e-02,  3.54979451e-02,\n",
       "        6.41322728e-03,  7.26205323e-03,  2.26747669e-02,  1.18053742e-02,\n",
       "        8.77644015e-03,  9.55902060e-03,  1.39283427e-02,  8.37704580e-03,\n",
       "        6.69851227e-03,  2.26747669e-02,  1.26979108e-03,  6.41996144e-03,\n",
       "        2.15082789e-02,  3.22073917e-03,  3.33249228e-03,  1.60940227e-03,\n",
       "        5.08261223e-03,  1.65934256e-03,  1.54878732e-03,  2.15082789e-02,\n",
       "        5.77288321e-02,  6.69342609e-02,  3.92964287e-02,  7.06083018e-02,\n",
       "        3.54237232e-02,  7.63202797e-02,  3.16825288e-02,  8.38857042e-02,\n",
       "        4.23952104e-02,  3.92964287e-02,  1.79893630e-03,  2.10792518e-02,\n",
       "        4.05257881e-03,  9.38068324e-03,  1.15947158e-03,  1.50361553e-02,\n",
       "        2.85280444e-03,  1.54404514e-02,  2.48009460e-04,  4.05257881e-03,\n",
       "        2.19475100e-02,  1.68047704e-02,  1.89306710e-02, -1.45105003e-03,\n",
       "        2.19475100e-02,  1.13925004e-02,  2.08306912e-02,  1.42628740e-02,\n",
       "        6.90589447e-03,  1.89306710e-02,  8.46850430e-03,  9.58105480e-03,\n",
       "        1.70801629e-02, -6.04020490e-05,  8.46850430e-03, -4.55188904e-03,\n",
       "        2.48203078e-02, -1.09043663e-02,  1.83688974e-04,  1.70801629e-02,\n",
       "        2.17339359e-03,  1.21082534e-02, -2.73515899e-03,  4.09054429e-04,\n",
       "        1.55196985e-03,  9.61349128e-03,  3.82357550e-03,  2.96061031e-03,\n",
       "       -1.44804780e-03, -2.73515899e-03,  3.47956121e-02,  5.83937964e-02,\n",
       "        2.29739718e-02,  2.87035079e-02,  3.64824212e-02,  1.72434196e-02,\n",
       "        2.96391438e-02,  3.09001479e-02,  9.25555920e-03,  2.29739718e-02,\n",
       "        1.65893124e-02,  5.58708940e-02,  1.57307822e-02,  1.65893124e-02,\n",
       "        1.65893124e-02,  2.25502931e-02,  2.59780852e-02,  5.30670179e-03,\n",
       "        1.65893124e-02,  1.57307822e-02,  4.42205020e-02,  2.99038947e-02,\n",
       "        5.16712784e-02,  3.29202686e-02,  3.33439819e-02,  3.42989306e-02,\n",
       "        2.42157685e-02,  3.42989306e-02,  4.42205020e-02,  5.16712784e-02,\n",
       "        2.65658707e-02,  1.66582823e-02,  2.65658707e-02,  8.42934776e-03,\n",
       "        2.95022220e-02,  6.48599414e-02,  2.10169461e-02,  3.96007536e-02,\n",
       "        2.37178530e-02,  2.65658707e-02,  6.79618736e-02,  4.67888905e-02,\n",
       "        5.65797728e-03,  3.12404438e-02,  1.02966143e-01,  9.58780545e-02,\n",
       "        4.27776072e-02,  5.57853486e-02,  6.79618736e-02,  5.65797728e-03,\n",
       "        2.94475131e-02,  8.80151007e-03,  3.37254174e-03,  1.35529722e-02,\n",
       "        4.13003569e-02,  2.40999344e-02,  2.32058148e-02,  2.44239442e-02,\n",
       "        2.56008400e-02,  3.37254174e-03,  1.23900620e-02,  7.92362580e-03,\n",
       "        1.62977330e-02,  1.23900620e-02,  2.74422916e-02,  1.05792373e-02,\n",
       "        7.69083537e-03,  1.71931640e-02,  8.57419305e-03,  1.62977330e-02,\n",
       "        1.27371712e-02,  1.94483948e-02,  1.39627493e-02,  1.39627493e-02,\n",
       "        1.39627493e-02, -8.71364960e-04,  9.44095857e-03,  1.07483208e-02,\n",
       "        1.27371712e-02,  1.27371712e-02,  4.78431708e-02,  7.73369632e-03,\n",
       "        2.59667602e-02,  5.92926473e-02,  3.19879147e-02,  1.21819753e-02,\n",
       "        2.90707655e-02,  2.41268819e-02,  3.00954005e-02,  2.59667602e-02,\n",
       "        1.96078475e-02,  2.80167482e-02,  4.22433599e-02,  2.99341046e-02,\n",
       "        7.17752660e-03,  1.52086684e-02,  5.00296912e-02,  3.91182895e-02,\n",
       "        4.16420546e-02,  4.83733300e-02,  1.34020272e-02,  4.23403182e-03,\n",
       "        1.34020272e-02,  3.42644233e-03,  6.09296004e-03,  1.52633301e-02,\n",
       "        2.31745973e-02,  1.70056324e-02,  1.77587047e-02,  1.17857955e-02,\n",
       "        5.44197125e-02,  4.04517491e-02,  5.44197125e-02,  2.44376554e-02,\n",
       "        1.06040246e-02,  5.76464049e-02,  6.66377553e-02,  4.04517491e-02,\n",
       "        3.44124348e-02,  4.04517491e-02,  2.73884440e-02,  1.16895342e-02,\n",
       "        4.71356969e-02,  4.25301328e-02,  4.78004280e-02,  4.57775508e-02,\n",
       "        6.84502390e-02,  2.40716832e-02,  9.71065815e-03,  2.73884440e-02,\n",
       "        1.35864654e-03,  6.71586538e-03,  7.11496660e-03, -7.88343575e-03,\n",
       "       -2.32754508e-03,  1.39639141e-02,  8.57989641e-03, -2.19553928e-03,\n",
       "       -1.78929065e-02,  1.10609283e-02, -8.34346473e-03,  1.02791822e-02,\n",
       "       -8.34346473e-03,  2.39246834e-02,  1.08677871e-02, -7.96896894e-03,\n",
       "        1.45843780e-02,  6.16328740e-03, -1.13800633e-02,  2.03124823e-02,\n",
       "        1.66697412e-02,  4.84539410e-03,  1.66697412e-02, -3.71240549e-03,\n",
       "        1.39419046e-02,  2.14127984e-02,  1.46100219e-02,  1.85962230e-02,\n",
       "        1.66697412e-02,  8.59218082e-03, -1.00577879e-01, -3.64673798e-02,\n",
       "       -6.63676293e-02, -1.01654787e-01, -4.36083758e-02, -9.86537961e-02,\n",
       "       -4.06607498e-02, -5.38339846e-02, -9.80278397e-02, -7.73830537e-02,\n",
       "       -1.23907932e-03, -1.30618526e-02,  7.80425273e-03, -2.95451270e-02,\n",
       "       -2.90310186e-02, -1.23907932e-03, -1.23663757e-02, -2.43647599e-02,\n",
       "       -7.04964534e-03, -7.27043152e-03,  1.19230052e-03,  1.91832694e-02,\n",
       "        3.31830234e-03,  4.34305610e-03,  1.19553359e-03,  1.91057742e-03,\n",
       "        2.56218812e-02,  4.43302307e-03,  4.70851717e-03,  2.52443719e-03,\n",
       "        1.84447280e-02,  5.13376893e-02,  2.03800169e-02,  1.66223710e-02,\n",
       "        2.63470415e-02,  1.96850278e-02,  4.01904410e-02,  8.79355206e-03,\n",
       "        1.84447280e-02,  1.93784530e-02,  1.20096677e-02,  8.47053939e-03,\n",
       "        1.20096677e-02,  1.24278844e-02,  5.81596740e-02,  5.36721035e-03,\n",
       "        1.45945511e-02,  1.21269810e-02,  1.49739944e-02,  2.45348152e-02,\n",
       "       -6.34810154e-03,  2.04482780e-02,  5.80564764e-03, -2.82592464e-02,\n",
       "       -7.25846176e-03,  6.00396680e-03,  6.63690067e-04, -9.71868642e-04,\n",
       "       -1.53637315e-02,  1.08551201e-02,  2.58868322e-03,  4.00753982e-02,\n",
       "        1.79579307e-02,  3.07598494e-03,  1.02591911e-02,  2.58868322e-03,\n",
       "        6.53872505e-03,  1.64643346e-02,  5.19110105e-03,  1.79579307e-02,\n",
       "        2.64293526e-02,  2.36073548e-02,  3.15445980e-02,  2.95790394e-02,\n",
       "        1.00985532e-02,  2.96743154e-02,  6.01569118e-02,  1.05886546e-02,\n",
       "        7.93513905e-03,  1.95114646e-02,  1.49849867e-02,  5.11591526e-02,\n",
       "        1.18011534e-02,  1.19276406e-02,  1.73882935e-02,  1.51839445e-02,\n",
       "        2.33695707e-02,  1.39328999e-02,  2.78098571e-02,  1.80549196e-02,\n",
       "        1.37293616e-02,  9.35009319e-03,  1.37293616e-02, -6.19053199e-03,\n",
       "       -6.26905268e-03,  2.20219623e-02,  3.42215240e-02,  2.79473028e-05,\n",
       "        8.71778589e-04,  1.20848752e-02, -1.06400771e-03,  1.79683552e-02,\n",
       "       -1.88020880e-03,  5.99938782e-05,  1.25277031e-02,  1.66200093e-02,\n",
       "        7.08680150e-03,  1.76310864e-02, -1.06400771e-03,  1.49110279e-03,\n",
       "        5.56549860e-02,  1.05989520e-01,  4.41469970e-02,  4.67228762e-02,\n",
       "        2.92957930e-02,  1.22890186e-01,  1.01752283e-02,  7.53688132e-02,\n",
       "        3.58859214e-02,  1.01538549e-01])"
      ]
     },
     "execution_count": 120,
     "metadata": {},
     "output_type": "execute_result"
    }
   ],
   "source": [
    "full_fluency_list_np"
   ]
  },
  {
   "cell_type": "code",
   "execution_count": 130,
   "id": "ead221a4",
   "metadata": {},
   "outputs": [],
   "source": [
    "full_fluency_list_np2 = full_fluency_list_np + 0.11"
   ]
  },
  {
   "cell_type": "code",
   "execution_count": 132,
   "id": "d9e45db8",
   "metadata": {},
   "outputs": [
    {
     "data": {
      "text/plain": [
       "0.0083452133817941"
      ]
     },
     "execution_count": 132,
     "metadata": {},
     "output_type": "execute_result"
    }
   ],
   "source": [
    "np.min(full_fluency_list_np2)"
   ]
  },
  {
   "cell_type": "code",
   "execution_count": 133,
   "id": "8f7d8184",
   "metadata": {},
   "outputs": [
    {
     "data": {
      "text/plain": [
       "0.24702384479858397"
      ]
     },
     "execution_count": 133,
     "metadata": {},
     "output_type": "execute_result"
    }
   ],
   "source": [
    "np.max(full_fluency_list_np2)"
   ]
  },
  {
   "cell_type": "code",
   "execution_count": 140,
   "id": "d4eb91f3",
   "metadata": {},
   "outputs": [
    {
     "data": {
      "image/png": "[encoded data removed]",
      "text/plain": [
       "<Figure size 432x288 with 1 Axes>"
      ]
     },
     "metadata": {
      "needs_background": "light"
     },
     "output_type": "display_data"
    }
   ],
   "source": [
    "import matplotlib.pyplot as plt\n",
    "from matplotlib.ticker import PercentFormatter\n",
    "#_ = plt.hist(full_fluency_list_np, bins='auto')  # arguments are passed to np.histogram\n",
    "plt.hist(full_fluency_list_np2, weights=np.ones(len(full_fluency_list_np2)) / len(full_fluency_list_np2))\n",
    "\n",
    "plt.gca().yaxis.set_major_formatter(PercentFormatter(1))\n",
    "plt.title(\"Fluency score, F(u), shifted right by k (0.11)\")\n",
    "#Text(0.5, 1.0, \"Histogram with 'auto' bins\")\n",
    "plt.show()"
   ]
  },
  {
   "cell_type": "code",
   "execution_count": 137,
   "id": "80815f95",
   "metadata": {},
   "outputs": [],
   "source": [
    "full_fluency_list_np3 = full_fluency_list_np2/ 0.247"
   ]
  },
  {
   "cell_type": "code",
   "execution_count": 139,
   "id": "8b94a50a",
   "metadata": {},
   "outputs": [
    {
     "data": {
      "image/png": "[encoded data removed]",
      "text/plain": [
       "<Figure size 432x288 with 1 Axes>"
      ]
     },
     "metadata": {
      "needs_background": "light"
     },
     "output_type": "display_data"
    }
   ],
   "source": [
    "import matplotlib.pyplot as plt\n",
    "from matplotlib.ticker import PercentFormatter\n",
    "#_ = plt.hist(full_fluency_list_np, bins='auto')  # arguments are passed to np.histogram\n",
    "plt.hist(full_fluency_list_np3, weights=np.ones(len(full_fluency_list_np3)) / len(full_fluency_list_np3))\n",
    "\n",
    "plt.gca().yaxis.set_major_formatter(PercentFormatter(1))\n",
    "plt.title(\"Fluency score, F(u), normalised\")\n",
    "#Text(0.5, 1.0, \"Histogram with 'auto' bins\")\n",
    "plt.show()"
   ]
  },
  {
   "cell_type": "code",
   "execution_count": null,
   "id": "771bde18",
   "metadata": {},
   "outputs": [],
   "source": []
  }
 ],
 "metadata": {
  "kernelspec": {
   "display_name": "Python 3 (ipykernel)",
   "language": "python",
   "name": "python3"
  },
  "language_info": {
   "codemirror_mode": {
    "name": "ipython",
    "version": 3
   },
   "file_extension": ".py",
   "mimetype": "text/x-python",
   "name": "python",
   "nbconvert_exporter": "python",
   "pygments_lexer": "ipython3",
   "version": "3.8.13"
  }
 },
 "nbformat": 4,
 "nbformat_minor": 5
}
