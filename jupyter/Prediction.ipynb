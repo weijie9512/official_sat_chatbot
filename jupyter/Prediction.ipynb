{
 "cells": [
  {
   "cell_type": "code",
   "execution_count": 1,
   "id": "4a9d7266",
   "metadata": {},
   "outputs": [],
   "source": [
    "# cite simcse\n",
    "# cite sentence-transformers https://huggingface.co/sentence-transformers/all-MiniLM-L6-v2\n",
    "import pandas as pd\n",
    "import numpy as np\n",
    "from transformers import AutoModelForSequenceClassification, AutoTokenizer\n",
    "import torch"
   ]
  },
  {
   "cell_type": "markdown",
   "id": "a79c2df2",
   "metadata": {},
   "source": [
    "## My Dataset"
   ]
  },
  {
   "cell_type": "code",
   "execution_count": 2,
   "id": "397e14e8",
   "metadata": {},
   "outputs": [],
   "source": [
    "label = \"final_pred_modified\""
   ]
  },
  {
   "cell_type": "code",
   "execution_count": 3,
   "id": "239e25a8",
   "metadata": {},
   "outputs": [],
   "source": [
    "from sklearn.model_selection import train_test_split\n",
    "from sklearn.metrics import classification_report"
   ]
  },
  {
   "cell_type": "code",
   "execution_count": 4,
   "id": "70442d93",
   "metadata": {},
   "outputs": [],
   "source": [
    "#df = pd.read_excel(\"data/survey_data/labelled_data/sat_data_combined_vertical_pred_final.xlsx\")\n",
    "df = pd.read_excel(\"../data/survey_data/labelled_data/data_labelled.xlsx\")"
   ]
  },
  {
   "cell_type": "code",
   "execution_count": 5,
   "id": "ea405aa6",
   "metadata": {},
   "outputs": [],
   "source": [
    "df[label] = df[label].astype(int)"
   ]
  },
  {
   "cell_type": "code",
   "execution_count": 6,
   "id": "e069c377",
   "metadata": {},
   "outputs": [],
   "source": [
    "X = df['response']\n",
    "y = df[label]"
   ]
  },
  {
   "cell_type": "code",
   "execution_count": 7,
   "id": "b02361ae",
   "metadata": {},
   "outputs": [],
   "source": [
    "X_train, X_test, y_train, y_test = train_test_split(X, y, test_size=0.3, random_state=0)\n",
    "X_val, X_test, y_val, y_test = train_test_split(X_test, y_test, test_size=0.5, random_state=0)"
   ]
  },
  {
   "cell_type": "code",
   "execution_count": 8,
   "id": "2e7de3f3",
   "metadata": {},
   "outputs": [],
   "source": [
    "texts = list(X_train)\n",
    "texts_test = list(X_test)\n",
    "texts_val = list(X_val)"
   ]
  },
  {
   "cell_type": "code",
   "execution_count": 9,
   "id": "65ccde77",
   "metadata": {},
   "outputs": [
    {
     "data": {
      "text/plain": [
       "2    871\n",
       "0    824\n",
       "1    673\n",
       "Name: final_pred_modified, dtype: int64"
      ]
     },
     "execution_count": 9,
     "metadata": {},
     "output_type": "execute_result"
    }
   ],
   "source": [
    "df[label].value_counts()"
   ]
  },
  {
   "cell_type": "code",
   "execution_count": 10,
   "id": "399a6c56",
   "metadata": {},
   "outputs": [
    {
     "data": {
      "text/plain": [
       "526     Are you aware of on-goings within your local c...\n",
       "92      Congratulations! You have shown foresighted co...\n",
       "963     I would like to emphasise that the purpose of ...\n",
       "909     Congratulations! You have shown tender compass...\n",
       "2242    This is a fantastic start but bear in mind tha...\n",
       "                              ...                        \n",
       "1033     As a first step : shall we continue with ESA?...\n",
       "1731    I would like to emphasize that the purpose of ...\n",
       "763     Think about how you plan to achieve this. When...\n",
       "835                        How are you feeling right now?\n",
       "1653    Let's talk a little bit more about you - Do yo...\n",
       "Name: response, Length: 1657, dtype: object"
      ]
     },
     "execution_count": 10,
     "metadata": {},
     "output_type": "execute_result"
    }
   ],
   "source": [
    "X_train"
   ]
  },
  {
   "cell_type": "markdown",
   "id": "51f42f59",
   "metadata": {},
   "source": [
    "## Model prediction"
   ]
  },
  {
   "cell_type": "code",
   "execution_count": 11,
   "id": "fb96d763",
   "metadata": {},
   "outputs": [
    {
     "name": "stderr",
     "output_type": "stream",
     "text": [
      "Some weights of the model checkpoint at bert-base-uncased were not used when initializing BertForSequenceClassification: ['cls.predictions.bias', 'cls.seq_relationship.weight', 'cls.predictions.transform.dense.weight', 'cls.seq_relationship.bias', 'cls.predictions.decoder.weight', 'cls.predictions.transform.LayerNorm.bias', 'cls.predictions.transform.dense.bias', 'cls.predictions.transform.LayerNorm.weight']\n",
      "- This IS expected if you are initializing BertForSequenceClassification from the checkpoint of a model trained on another task or with another architecture (e.g. initializing a BertForSequenceClassification model from a BertForPreTraining model).\n",
      "- This IS NOT expected if you are initializing BertForSequenceClassification from the checkpoint of a model that you expect to be exactly identical (initializing a BertForSequenceClassification model from a BertForSequenceClassification model).\n",
      "Some weights of BertForSequenceClassification were not initialized from the model checkpoint at bert-base-uncased and are newly initialized: ['classifier.bias', 'classifier.weight']\n",
      "You should probably TRAIN this model on a down-stream task to be able to use it for predictions and inference.\n"
     ]
    }
   ],
   "source": [
    "\n",
    "#tokenizer = AutoTokenizer.from_pretrained(\"bert-base-cased\")\n",
    "#model = AutoModelForSequenceClassification.from_pretrained(\"bert-base-cased\", num_labels=3)\n",
    "tokenizer = AutoTokenizer.from_pretrained(\"bert-base-uncased\")\n",
    "model = AutoModelForSequenceClassification.from_pretrained(\"bert-base-uncased\", num_labels=3)\n",
    "#tokenizer = AutoTokenizer.from_pretrained(\"roberta-base\")\n",
    "#model = AutoModelForSequenceClassification.from_pretrained(\"roberta-base\", num_labels=3)\n",
    "#tokenizer = AutoTokenizer.from_pretrained(\"cardiffnlp/twitter-xlm-roberta-base-sentiment\")\n",
    "#model = AutoModelForSequenceClassification.from_pretrained(\"cardiffnlp/twitter-xlm-roberta-base-sentiment\", num_labels=3)\n"
   ]
  },
  {
   "cell_type": "code",
   "execution_count": 12,
   "id": "5d65e814",
   "metadata": {},
   "outputs": [],
   "source": [
    "from torch.utils.data import Dataset, DataLoader\n",
    "class EmpatheticDataset(Dataset):\n",
    "    def __init__(self, X, y, with_label=True):\n",
    "        self.X = X.reset_index()['response']\n",
    "        self.y = y.reset_index()[label]\n",
    "        self.text = list(X.values)\n",
    "        encoded_input = tokenizer(self.text, padding=True, truncation=True, return_tensors=\"pt\")\n",
    "        encoded_input['text'] = self.text\n",
    "        encoded_input['label'] = torch.tensor(y.values)\n",
    "        if with_label:\n",
    "            try:\n",
    "                self.new_output = [{'label': label, 'text': text,'input_ids': input_ids, \\\n",
    "                           'token_type_ids': token_type_ids, 'attention_mask': attention_mask} \\\n",
    "                           for label, text, input_ids, token_type_ids, attention_mask in zip(encoded_input['label'], \\\n",
    "                                                                              encoded_input['text'], \\\n",
    "                                                                              encoded_input['input_ids'], \\\n",
    "                                                                              encoded_input['token_type_ids'], \\\n",
    "                                                                              encoded_input['attention_mask'])]\n",
    "            except:\n",
    "                self.new_output = [{'label': label, 'text': text,'input_ids': input_ids, \\\n",
    "                           'attention_mask': attention_mask} \\\n",
    "                           for label, text, input_ids, attention_mask in zip(encoded_input['label'], \\\n",
    "                                                                              encoded_input['text'], \\\n",
    "                                                                              encoded_input['input_ids'], \\\n",
    "                                                                              encoded_input['attention_mask'])]\n",
    "        else:\n",
    "            try:\n",
    "                self.new_output = [{'text': text,'input_ids': input_ids, \\\n",
    "                           'token_type_ids': token_type_ids, 'attention_mask': attention_mask} \\\n",
    "                           for text, input_ids, token_type_ids, attention_mask in zip(encoded_input['text'], \\\n",
    "                                                                              encoded_input['input_ids'], \\\n",
    "                                                                              encoded_input['token_type_ids'], \\\n",
    "                                                                              encoded_input['attention_mask'])]\n",
    "            except:\n",
    "                self.new_output = [{'text': text,'input_ids': input_ids, \\\n",
    "                           'attention_mask': attention_mask} \\\n",
    "                           for text, input_ids, attention_mask in zip(encoded_input['text'], \\\n",
    "                                                                              encoded_input['input_ids'], \\\n",
    "                                                                              encoded_input['attention_mask'])]\n",
    "            \n",
    "        \n",
    " \n",
    "    def __len__(self):\n",
    "        return len(self.X)\n",
    "   \n",
    "    def __getitem__(self,idx):\n",
    "        try:\n",
    "            return self.new_output[idx]\n",
    "        except:\n",
    "            print(idx)\n",
    "            print(self.new_output[idx - 1])\n",
    "            print(self.new_output[idx])\n",
    "        #return self.X[idx], self.y[idx]\n",
    "        #features: ['label', 'text', 'input_ids', 'token_type_ids', 'attention_mask']"
   ]
  },
  {
   "cell_type": "code",
   "execution_count": 13,
   "id": "d6ba5539",
   "metadata": {},
   "outputs": [],
   "source": [
    "train_data = EmpatheticDataset(X_train, y_train)\n",
    "test_data = EmpatheticDataset(X_test, y_test)\n",
    "val_data = EmpatheticDataset(X_val, y_val)"
   ]
  },
  {
   "cell_type": "code",
   "execution_count": 14,
   "id": "4b72b3ea",
   "metadata": {},
   "outputs": [],
   "source": [
    "#train_dataloader = DataLoader(train_data, shuffle=True, batch_size=8)\n",
    "#test_dataloader = DataLoader(test_data, batch_size=8)"
   ]
  },
  {
   "cell_type": "code",
   "execution_count": 15,
   "id": "964555aa",
   "metadata": {},
   "outputs": [],
   "source": [
    "from transformers import TrainingArguments\n",
    "\n",
    "training_args = TrainingArguments(output_dir=\"test_trainer\")"
   ]
  },
  {
   "cell_type": "code",
   "execution_count": 16,
   "id": "374eef94",
   "metadata": {},
   "outputs": [],
   "source": [
    "from datasets import load_metric\n",
    "\n",
    "metric = load_metric(\"accuracy\")"
   ]
  },
  {
   "cell_type": "code",
   "execution_count": 17,
   "id": "3b2b3667",
   "metadata": {},
   "outputs": [],
   "source": [
    "def compute_metrics(eval_pred):\n",
    "    logits, labels = eval_pred\n",
    "    predictions = np.argmax(logits, axis=-1)\n",
    "    return metric.compute(predictions=predictions, references=labels)"
   ]
  },
  {
   "cell_type": "code",
   "execution_count": 18,
   "id": "d24fbd0b",
   "metadata": {},
   "outputs": [],
   "source": [
    "from transformers import TrainingArguments, Trainer\n",
    "\n",
    "training_args = TrainingArguments(output_dir=\"test_trainer\", evaluation_strategy=\"epoch\")"
   ]
  },
  {
   "cell_type": "code",
   "execution_count": 19,
   "id": "05897353",
   "metadata": {},
   "outputs": [],
   "source": [
    "trainer = Trainer(\n",
    "    model=model,\n",
    "    args=training_args,\n",
    "    train_dataset=train_data,\n",
    "    eval_dataset=val_data,\n",
    "    compute_metrics=compute_metrics,\n",
    ")"
   ]
  },
  {
   "cell_type": "code",
   "execution_count": 20,
   "id": "ab0a475f",
   "metadata": {},
   "outputs": [
    {
     "name": "stderr",
     "output_type": "stream",
     "text": [
      "/Users/weijiechua/miniforge3/envs/gen/lib/python3.8/site-packages/transformers/optimization.py:306: FutureWarning: This implementation of AdamW is deprecated and will be removed in a future version. Use the PyTorch implementation torch.optim.AdamW instead, or set `no_deprecation_warning=True` to disable this warning\n",
      "  warnings.warn(\n",
      "***** Running training *****\n",
      "  Num examples = 1657\n",
      "  Num Epochs = 3\n",
      "  Instantaneous batch size per device = 8\n",
      "  Total train batch size (w. parallel, distributed & accumulation) = 8\n",
      "  Gradient Accumulation steps = 1\n",
      "  Total optimization steps = 624\n",
      "The following columns in the training set don't have a corresponding argument in `BertForSequenceClassification.forward` and have been ignored: text. If text are not expected by `BertForSequenceClassification.forward`,  you can safely ignore this message.\n"
     ]
    },
    {
     "data": {
      "text/html": [
       "\n",
       "    <div>\n",
       "      \n",
       "      <progress value='624' max='624' style='width:300px; height:20px; vertical-align: middle;'></progress>\n",
       "      [624/624 18:37, Epoch 3/3]\n",
       "    </div>\n",
       "    <table border=\"1\" class=\"dataframe\">\n",
       "  <thead>\n",
       " <tr style=\"text-align: left;\">\n",
       "      <th>Epoch</th>\n",
       "      <th>Training Loss</th>\n",
       "      <th>Validation Loss</th>\n",
       "      <th>Accuracy</th>\n",
       "    </tr>\n",
       "  </thead>\n",
       "  <tbody>\n",
       "    <tr>\n",
       "      <td>1</td>\n",
       "      <td>No log</td>\n",
       "      <td>0.904064</td>\n",
       "      <td>0.566197</td>\n",
       "    </tr>\n",
       "    <tr>\n",
       "      <td>2</td>\n",
       "      <td>No log</td>\n",
       "      <td>0.598452</td>\n",
       "      <td>0.763380</td>\n",
       "    </tr>\n",
       "    <tr>\n",
       "      <td>3</td>\n",
       "      <td>0.768700</td>\n",
       "      <td>0.513781</td>\n",
       "      <td>0.816901</td>\n",
       "    </tr>\n",
       "  </tbody>\n",
       "</table><p>"
      ],
      "text/plain": [
       "<IPython.core.display.HTML object>"
      ]
     },
     "metadata": {},
     "output_type": "display_data"
    },
    {
     "name": "stderr",
     "output_type": "stream",
     "text": [
      "***** Running Evaluation *****\n",
      "  Num examples = 355\n",
      "  Batch size = 8\n",
      "The following columns in the evaluation set don't have a corresponding argument in `BertForSequenceClassification.forward` and have been ignored: text. If text are not expected by `BertForSequenceClassification.forward`,  you can safely ignore this message.\n",
      "***** Running Evaluation *****\n",
      "  Num examples = 355\n",
      "  Batch size = 8\n",
      "The following columns in the evaluation set don't have a corresponding argument in `BertForSequenceClassification.forward` and have been ignored: text. If text are not expected by `BertForSequenceClassification.forward`,  you can safely ignore this message.\n",
      "Saving model checkpoint to test_trainer/checkpoint-500\n",
      "Configuration saved in test_trainer/checkpoint-500/config.json\n",
      "Model weights saved in test_trainer/checkpoint-500/pytorch_model.bin\n",
      "***** Running Evaluation *****\n",
      "  Num examples = 355\n",
      "  Batch size = 8\n",
      "The following columns in the evaluation set don't have a corresponding argument in `BertForSequenceClassification.forward` and have been ignored: text. If text are not expected by `BertForSequenceClassification.forward`,  you can safely ignore this message.\n",
      "\n",
      "\n",
      "Training completed. Do not forget to share your model on huggingface.co/models =)\n",
      "\n",
      "\n"
     ]
    },
    {
     "data": {
      "text/plain": [
       "TrainOutput(global_step=624, training_loss=0.7080848583808312, metrics={'train_runtime': 1119.227, 'train_samples_per_second': 4.441, 'train_steps_per_second': 0.558, 'total_flos': 380630045174526.0, 'train_loss': 0.7080848583808312, 'epoch': 3.0})"
      ]
     },
     "execution_count": 20,
     "metadata": {},
     "output_type": "execute_result"
    }
   ],
   "source": [
    "trainer.train()"
   ]
  },
  {
   "cell_type": "code",
   "execution_count": 21,
   "id": "fd5edf49",
   "metadata": {},
   "outputs": [],
   "source": [
    "#save_path = \"bert-base-uncased_full_data.pt\""
   ]
  },
  {
   "cell_type": "code",
   "execution_count": 22,
   "id": "3c4a8fad",
   "metadata": {},
   "outputs": [],
   "source": [
    "#torch.save(model.state_dict(), save_path)"
   ]
  },
  {
   "cell_type": "code",
   "execution_count": 17,
   "id": "e01f447e",
   "metadata": {},
   "outputs": [],
   "source": [
    "save_path = \"../models/bert-base-uncased_full_data.pt\""
   ]
  },
  {
   "cell_type": "code",
   "execution_count": 27,
   "id": "c531ed65",
   "metadata": {},
   "outputs": [],
   "source": [
    "model2 = torch.load(save_path)"
   ]
  },
  {
   "cell_type": "markdown",
   "id": "328ea14e",
   "metadata": {},
   "source": [
    "## Loading Pre-trained model"
   ]
  },
  {
   "cell_type": "code",
   "execution_count": 12,
   "id": "106d56a0",
   "metadata": {},
   "outputs": [
    {
     "name": "stderr",
     "output_type": "stream",
     "text": [
      "Some weights of the model checkpoint at bert-base-uncased were not used when initializing BertForSequenceClassification: ['cls.predictions.bias', 'cls.seq_relationship.weight', 'cls.predictions.transform.dense.weight', 'cls.seq_relationship.bias', 'cls.predictions.decoder.weight', 'cls.predictions.transform.LayerNorm.bias', 'cls.predictions.transform.dense.bias', 'cls.predictions.transform.LayerNorm.weight']\n",
      "- This IS expected if you are initializing BertForSequenceClassification from the checkpoint of a model trained on another task or with another architecture (e.g. initializing a BertForSequenceClassification model from a BertForPreTraining model).\n",
      "- This IS NOT expected if you are initializing BertForSequenceClassification from the checkpoint of a model that you expect to be exactly identical (initializing a BertForSequenceClassification model from a BertForSequenceClassification model).\n",
      "Some weights of BertForSequenceClassification were not initialized from the model checkpoint at bert-base-uncased and are newly initialized: ['classifier.bias', 'classifier.weight']\n",
      "You should probably TRAIN this model on a down-stream task to be able to use it for predictions and inference.\n"
     ]
    }
   ],
   "source": [
    "model2 = AutoModelForSequenceClassification.from_pretrained(\"bert-base-uncased\", num_labels=3)\n"
   ]
  },
  {
   "cell_type": "code",
   "execution_count": 18,
   "id": "8aca17ba",
   "metadata": {},
   "outputs": [
    {
     "ename": "FileNotFoundError",
     "evalue": "[Errno 2] No such file or directory: '../models/bert-base-uncased_full_data.pt'",
     "output_type": "error",
     "traceback": [
      "\u001b[0;31m---------------------------------------------------------------------------\u001b[0m",
      "\u001b[0;31mFileNotFoundError\u001b[0m                         Traceback (most recent call last)",
      "Input \u001b[0;32mIn [18]\u001b[0m, in \u001b[0;36m<cell line: 1>\u001b[0;34m()\u001b[0m\n\u001b[0;32m----> 1\u001b[0m model2\u001b[38;5;241m.\u001b[39mload_state_dict(\u001b[43mtorch\u001b[49m\u001b[38;5;241;43m.\u001b[39;49m\u001b[43mload\u001b[49m\u001b[43m(\u001b[49m\u001b[43msave_path\u001b[49m\u001b[43m,\u001b[49m\u001b[43m \u001b[49m\u001b[43mmap_location\u001b[49m\u001b[38;5;241;43m=\u001b[39;49m\u001b[38;5;124;43m\"\u001b[39;49m\u001b[38;5;124;43mcpu\u001b[39;49m\u001b[38;5;124;43m\"\u001b[39;49m\u001b[43m)\u001b[49m)\n",
      "File \u001b[0;32m~/opt/anaconda3/envs/sat_chatbot/lib/python3.8/site-packages/torch/serialization.py:699\u001b[0m, in \u001b[0;36mload\u001b[0;34m(f, map_location, pickle_module, **pickle_load_args)\u001b[0m\n\u001b[1;32m    696\u001b[0m \u001b[38;5;28;01mif\u001b[39;00m \u001b[38;5;124m'\u001b[39m\u001b[38;5;124mencoding\u001b[39m\u001b[38;5;124m'\u001b[39m \u001b[38;5;129;01mnot\u001b[39;00m \u001b[38;5;129;01min\u001b[39;00m pickle_load_args\u001b[38;5;241m.\u001b[39mkeys():\n\u001b[1;32m    697\u001b[0m     pickle_load_args[\u001b[38;5;124m'\u001b[39m\u001b[38;5;124mencoding\u001b[39m\u001b[38;5;124m'\u001b[39m] \u001b[38;5;241m=\u001b[39m \u001b[38;5;124m'\u001b[39m\u001b[38;5;124mutf-8\u001b[39m\u001b[38;5;124m'\u001b[39m\n\u001b[0;32m--> 699\u001b[0m \u001b[38;5;28;01mwith\u001b[39;00m \u001b[43m_open_file_like\u001b[49m\u001b[43m(\u001b[49m\u001b[43mf\u001b[49m\u001b[43m,\u001b[49m\u001b[43m \u001b[49m\u001b[38;5;124;43m'\u001b[39;49m\u001b[38;5;124;43mrb\u001b[39;49m\u001b[38;5;124;43m'\u001b[39;49m\u001b[43m)\u001b[49m \u001b[38;5;28;01mas\u001b[39;00m opened_file:\n\u001b[1;32m    700\u001b[0m     \u001b[38;5;28;01mif\u001b[39;00m _is_zipfile(opened_file):\n\u001b[1;32m    701\u001b[0m         \u001b[38;5;66;03m# The zipfile reader is going to advance the current file position.\u001b[39;00m\n\u001b[1;32m    702\u001b[0m         \u001b[38;5;66;03m# If we want to actually tail call to torch.jit.load, we need to\u001b[39;00m\n\u001b[1;32m    703\u001b[0m         \u001b[38;5;66;03m# reset back to the original position.\u001b[39;00m\n\u001b[1;32m    704\u001b[0m         orig_position \u001b[38;5;241m=\u001b[39m opened_file\u001b[38;5;241m.\u001b[39mtell()\n",
      "File \u001b[0;32m~/opt/anaconda3/envs/sat_chatbot/lib/python3.8/site-packages/torch/serialization.py:231\u001b[0m, in \u001b[0;36m_open_file_like\u001b[0;34m(name_or_buffer, mode)\u001b[0m\n\u001b[1;32m    229\u001b[0m \u001b[38;5;28;01mdef\u001b[39;00m \u001b[38;5;21m_open_file_like\u001b[39m(name_or_buffer, mode):\n\u001b[1;32m    230\u001b[0m     \u001b[38;5;28;01mif\u001b[39;00m _is_path(name_or_buffer):\n\u001b[0;32m--> 231\u001b[0m         \u001b[38;5;28;01mreturn\u001b[39;00m \u001b[43m_open_file\u001b[49m\u001b[43m(\u001b[49m\u001b[43mname_or_buffer\u001b[49m\u001b[43m,\u001b[49m\u001b[43m \u001b[49m\u001b[43mmode\u001b[49m\u001b[43m)\u001b[49m\n\u001b[1;32m    232\u001b[0m     \u001b[38;5;28;01melse\u001b[39;00m:\n\u001b[1;32m    233\u001b[0m         \u001b[38;5;28;01mif\u001b[39;00m \u001b[38;5;124m'\u001b[39m\u001b[38;5;124mw\u001b[39m\u001b[38;5;124m'\u001b[39m \u001b[38;5;129;01min\u001b[39;00m mode:\n",
      "File \u001b[0;32m~/opt/anaconda3/envs/sat_chatbot/lib/python3.8/site-packages/torch/serialization.py:212\u001b[0m, in \u001b[0;36m_open_file.__init__\u001b[0;34m(self, name, mode)\u001b[0m\n\u001b[1;32m    211\u001b[0m \u001b[38;5;28;01mdef\u001b[39;00m \u001b[38;5;21m__init__\u001b[39m(\u001b[38;5;28mself\u001b[39m, name, mode):\n\u001b[0;32m--> 212\u001b[0m     \u001b[38;5;28msuper\u001b[39m(_open_file, \u001b[38;5;28mself\u001b[39m)\u001b[38;5;241m.\u001b[39m\u001b[38;5;21m__init__\u001b[39m(\u001b[38;5;28;43mopen\u001b[39;49m\u001b[43m(\u001b[49m\u001b[43mname\u001b[49m\u001b[43m,\u001b[49m\u001b[43m \u001b[49m\u001b[43mmode\u001b[49m\u001b[43m)\u001b[49m)\n",
      "\u001b[0;31mFileNotFoundError\u001b[0m: [Errno 2] No such file or directory: '../models/bert-base-uncased_full_data.pt'"
     ]
    }
   ],
   "source": [
    "model2.load_state_dict(torch.load(save_path, map_location=\"cpu\"))"
   ]
  },
  {
   "cell_type": "code",
   "execution_count": 37,
   "id": "463ec292",
   "metadata": {},
   "outputs": [],
   "source": [
    "trainer2 = Trainer(\n",
    "    model=model2,\n",
    "    args=training_args,\n",
    "    train_dataset=train_data,\n",
    "    eval_dataset=val_data,\n",
    "    compute_metrics=compute_metrics,\n",
    ")"
   ]
  },
  {
   "cell_type": "code",
   "execution_count": 38,
   "id": "75bcc844",
   "metadata": {},
   "outputs": [
    {
     "name": "stderr",
     "output_type": "stream",
     "text": [
      "***** Running Prediction *****\n",
      "  Num examples = 356\n",
      "  Batch size = 8\n",
      "The following columns in the test set don't have a corresponding argument in `BertForSequenceClassification.forward` and have been ignored: text. If text are not expected by `BertForSequenceClassification.forward`,  you can safely ignore this message.\n"
     ]
    },
    {
     "data": {
      "text/html": [
       "\n",
       "    <div>\n",
       "      \n",
       "      <progress value='45' max='45' style='width:300px; height:20px; vertical-align: middle;'></progress>\n",
       "      [45/45 00:18]\n",
       "    </div>\n",
       "    "
      ],
      "text/plain": [
       "<IPython.core.display.HTML object>"
      ]
     },
     "metadata": {},
     "output_type": "display_data"
    }
   ],
   "source": [
    "y_pred_hf = trainer2.predict(test_data)"
   ]
  },
  {
   "cell_type": "markdown",
   "id": "89998768",
   "metadata": {},
   "source": [
    "# Inference"
   ]
  },
  {
   "cell_type": "code",
   "execution_count": 120,
   "id": "7bc0ab80",
   "metadata": {},
   "outputs": [
    {
     "name": "stderr",
     "output_type": "stream",
     "text": [
      "***** Running Prediction *****\n",
      "  Num examples = 356\n",
      "  Batch size = 8\n",
      "The following columns in the test set don't have a corresponding argument in `BertForSequenceClassification.forward` and have been ignored: text. If text are not expected by `BertForSequenceClassification.forward`,  you can safely ignore this message.\n"
     ]
    },
    {
     "data": {
      "text/html": [
       "\n",
       "    <div>\n",
       "      \n",
       "      <progress value='45' max='45' style='width:300px; height:20px; vertical-align: middle;'></progress>\n",
       "      [45/45 00:21]\n",
       "    </div>\n",
       "    "
      ],
      "text/plain": [
       "<IPython.core.display.HTML object>"
      ]
     },
     "metadata": {},
     "output_type": "display_data"
    }
   ],
   "source": [
    "y_pred_hf = trainer.predict(test_data)"
   ]
  },
  {
   "cell_type": "code",
   "execution_count": null,
   "id": "a5abcaa3",
   "metadata": {},
   "outputs": [],
   "source": []
  },
  {
   "cell_type": "code",
   "execution_count": 39,
   "id": "03b82f8a",
   "metadata": {},
   "outputs": [
    {
     "data": {
      "text/plain": [
       "PredictionOutput(predictions=array([[-0.768334  ,  2.197935  , -1.7008576 ],\n",
       "       [ 2.3556778 , -0.7962154 , -1.963906  ],\n",
       "       [-1.781242  , -1.0795318 ,  3.0932853 ],\n",
       "       ...,\n",
       "       [-1.9587072 ,  0.31000274,  1.3631008 ],\n",
       "       [ 2.5384872 , -1.3550705 , -1.5202875 ],\n",
       "       [-1.3955543 ,  1.7085536 , -0.654751  ]], dtype=float32), label_ids=array([1, 0, 2, 0, 2, 2, 0, 0, 1, 0, 2, 2, 1, 1, 0, 1, 0, 0, 1, 2, 0, 0,\n",
       "       1, 2, 1, 0, 2, 0, 1, 2, 1, 1, 0, 2, 1, 2, 2, 1, 2, 2, 0, 1, 0, 2,\n",
       "       0, 0, 1, 2, 0, 2, 2, 0, 0, 2, 2, 1, 1, 0, 2, 0, 2, 2, 0, 0, 0, 2,\n",
       "       2, 1, 1, 0, 2, 2, 0, 2, 2, 1, 1, 1, 0, 0, 2, 1, 0, 0, 0, 2, 2, 0,\n",
       "       1, 0, 2, 0, 0, 1, 1, 0, 1, 2, 2, 0, 1, 2, 2, 1, 2, 0, 1, 0, 0, 1,\n",
       "       0, 1, 2, 2, 2, 2, 2, 1, 2, 2, 0, 1, 0, 0, 0, 2, 2, 1, 0, 1, 1, 2,\n",
       "       1, 2, 2, 1, 0, 0, 1, 2, 1, 2, 0, 1, 1, 1, 0, 1, 1, 0, 2, 2, 1, 2,\n",
       "       2, 2, 0, 1, 0, 0, 0, 1, 1, 0, 2, 2, 1, 0, 2, 1, 2, 1, 0, 0, 0, 1,\n",
       "       1, 2, 0, 2, 2, 0, 1, 2, 2, 2, 0, 0, 2, 0, 1, 0, 0, 1, 0, 0, 1, 0,\n",
       "       2, 1, 0, 0, 0, 2, 1, 1, 1, 1, 2, 0, 1, 1, 0, 0, 2, 0, 1, 0, 0, 1,\n",
       "       2, 0, 2, 0, 1, 0, 2, 0, 0, 0, 1, 0, 2, 1, 0, 0, 0, 0, 2, 2, 1, 2,\n",
       "       0, 2, 0, 0, 1, 1, 2, 1, 0, 0, 0, 2, 2, 2, 2, 1, 0, 2, 1, 2, 2, 0,\n",
       "       2, 2, 2, 1, 0, 2, 0, 1, 2, 1, 0, 0, 2, 2, 1, 0, 1, 2, 1, 2, 1, 2,\n",
       "       1, 2, 2, 1, 0, 2, 1, 2, 2, 2, 1, 2, 0, 1, 2, 2, 0, 0, 1, 2, 2, 1,\n",
       "       0, 1, 0, 0, 2, 0, 2, 2, 0, 1, 2, 1, 2, 2, 0, 1, 0, 2, 0, 1, 0, 1,\n",
       "       0, 1, 0, 1, 1, 2, 2, 2, 0, 2, 0, 1, 0, 0, 2, 1, 0, 2, 0, 0, 2, 1,\n",
       "       1, 2, 0, 1]), metrics={'test_loss': 0.528856635093689, 'test_accuracy': 0.8146067415730337, 'test_runtime': 19.4285, 'test_samples_per_second': 18.324, 'test_steps_per_second': 2.316})"
      ]
     },
     "execution_count": 39,
     "metadata": {},
     "output_type": "execute_result"
    }
   ],
   "source": [
    "y_pred_hf"
   ]
  },
  {
   "cell_type": "code",
   "execution_count": 40,
   "id": "3fc1c524",
   "metadata": {},
   "outputs": [],
   "source": [
    "y_pred_dl = np.argmax(y_pred_hf[0], axis=1)"
   ]
  },
  {
   "cell_type": "code",
   "execution_count": 41,
   "id": "a9656f72",
   "metadata": {},
   "outputs": [],
   "source": [
    "#y_pred_dl"
   ]
  },
  {
   "cell_type": "code",
   "execution_count": 42,
   "id": "c24a5c6c",
   "metadata": {},
   "outputs": [
    {
     "data": {
      "text/plain": [
       "array([1, 0, 2, 2, 2, 1, 1, 0, 1, 0, 2, 2, 1, 2, 0, 2, 2, 0, 2, 0, 0, 0,\n",
       "       1, 2, 2, 0, 2, 0, 1, 2, 1, 1, 0, 2, 1, 2, 2, 1, 2, 2, 0, 1, 0, 2,\n",
       "       0, 0, 1, 2, 0, 0, 2, 0, 0, 2, 2, 1, 1, 0, 0, 0, 2, 1, 0, 0, 0, 2,\n",
       "       2, 1, 1, 0, 1, 2, 0, 2, 2, 1, 1, 0, 0, 0, 2, 1, 1, 0, 0, 1, 2, 0,\n",
       "       1, 1, 2, 0, 0, 1, 1, 0, 1, 2, 2, 0, 2, 2, 2, 1, 2, 0, 1, 0, 0, 1,\n",
       "       0, 2, 2, 2, 2, 2, 2, 0, 2, 2, 1, 1, 0, 2, 0, 2, 0, 0, 0, 2, 1, 2,\n",
       "       1, 2, 2, 1, 0, 0, 1, 2, 1, 2, 0, 1, 1, 0, 2, 1, 0, 0, 0, 2, 2, 2,\n",
       "       2, 2, 0, 1, 0, 0, 0, 1, 1, 0, 2, 2, 1, 1, 1, 1, 2, 0, 0, 0, 0, 2,\n",
       "       1, 2, 0, 1, 2, 0, 1, 2, 2, 1, 1, 0, 1, 0, 1, 0, 2, 1, 0, 0, 2, 0,\n",
       "       2, 2, 0, 0, 0, 2, 2, 0, 1, 1, 2, 2, 2, 2, 0, 0, 2, 0, 1, 0, 0, 0,\n",
       "       2, 0, 2, 0, 2, 1, 2, 0, 0, 0, 1, 0, 2, 1, 0, 0, 0, 0, 2, 2, 1, 2,\n",
       "       0, 2, 0, 0, 2, 1, 2, 1, 0, 2, 1, 2, 2, 2, 2, 0, 0, 2, 0, 2, 2, 0,\n",
       "       2, 2, 2, 1, 0, 2, 0, 1, 2, 1, 0, 0, 2, 2, 2, 0, 2, 2, 1, 2, 1, 2,\n",
       "       1, 2, 2, 1, 0, 2, 1, 2, 2, 2, 2, 2, 0, 1, 2, 2, 1, 0, 1, 2, 2, 2,\n",
       "       0, 0, 0, 0, 2, 0, 2, 2, 0, 2, 2, 1, 2, 0, 0, 1, 0, 2, 0, 1, 0, 2,\n",
       "       0, 1, 0, 1, 0, 2, 2, 1, 0, 2, 0, 1, 0, 0, 2, 2, 0, 2, 0, 0, 2, 1,\n",
       "       1, 2, 0, 1])"
      ]
     },
     "execution_count": 42,
     "metadata": {},
     "output_type": "execute_result"
    }
   ],
   "source": [
    "y_pred_dl"
   ]
  },
  {
   "cell_type": "code",
   "execution_count": 43,
   "id": "a616761a",
   "metadata": {},
   "outputs": [
    {
     "name": "stdout",
     "output_type": "stream",
     "text": [
      "              precision    recall  f1-score   support\n",
      "\n",
      "           0       0.86      0.87      0.87       127\n",
      "           1       0.80      0.67      0.73       105\n",
      "           2       0.78      0.88      0.83       124\n",
      "\n",
      "    accuracy                           0.81       356\n",
      "   macro avg       0.81      0.81      0.81       356\n",
      "weighted avg       0.81      0.81      0.81       356\n",
      "\n"
     ]
    }
   ],
   "source": [
    "from sklearn.metrics import classification_report\n",
    "print(classification_report(y_test, y_pred_dl))"
   ]
  },
  {
   "cell_type": "code",
   "execution_count": null,
   "id": "0bf0182d",
   "metadata": {},
   "outputs": [],
   "source": []
  }
 ],
 "metadata": {
  "kernelspec": {
   "display_name": "Python 3 (ipykernel)",
   "language": "python",
   "name": "python3"
  },
  "language_info": {
   "codemirror_mode": {
    "name": "ipython",
    "version": 3
   },
   "file_extension": ".py",
   "mimetype": "text/x-python",
   "name": "python",
   "nbconvert_exporter": "python",
   "pygments_lexer": "ipython3",
   "version": "3.8.13"
  }
 },
 "nbformat": 4,
 "nbformat_minor": 5
}
