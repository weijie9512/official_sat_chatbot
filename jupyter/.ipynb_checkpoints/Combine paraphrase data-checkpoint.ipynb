{
 "cells": [
  {
   "cell_type": "code",
   "execution_count": 3,
   "id": "da89bcb3",
   "metadata": {},
   "outputs": [],
   "source": [
    "import pandas as pd\n",
    "import glob"
   ]
  },
  {
   "cell_type": "code",
   "execution_count": 2,
   "id": "a6d0ba21",
   "metadata": {},
   "outputs": [],
   "source": [
    "data_path = \"/Users/weijiechua/Desktop/ImperialClasses/Courses/thirdterm/individual/official/official_sat_chatbot/data/survey_data/processed_data\""
   ]
  },
  {
   "cell_type": "code",
   "execution_count": 6,
   "id": "8eba3310",
   "metadata": {},
   "outputs": [],
   "source": [
    "# Change the file location to suit your needs\n",
    "files = glob.glob(f'{data_path}/*.xlsx')\n",
    "# Perform loop or if you want to be cool use a list comprehension\n",
    "# Create an empty list to store your data drames\n",
    "frame = []\n",
    "for file in files:\n",
    "    frame.append(pd.read_excel(file))\n",
    "# Concatenate Dataframes into a single Dataframe\n",
    "df = pd.concat(frame)"
   ]
  },
  {
   "cell_type": "code",
   "execution_count": 8,
   "id": "e0d78ad3",
   "metadata": {},
   "outputs": [],
   "source": [
    "#df"
   ]
  },
  {
   "cell_type": "code",
   "execution_count": 10,
   "id": "3259955f",
   "metadata": {},
   "outputs": [],
   "source": [
    "df.to_excel(f\"{data_path}/data_pm_combined.xlsx\")"
   ]
  },
  {
   "cell_type": "code",
   "execution_count": null,
   "id": "1dae77b9",
   "metadata": {},
   "outputs": [],
   "source": []
  }
 ],
 "metadata": {
  "kernelspec": {
   "display_name": "Python 3 (ipykernel)",
   "language": "python",
   "name": "python3"
  },
  "language_info": {
   "codemirror_mode": {
    "name": "ipython",
    "version": 3
   },
   "file_extension": ".py",
   "mimetype": "text/x-python",
   "name": "python",
   "nbconvert_exporter": "python",
   "pygments_lexer": "ipython3",
   "version": "3.8.13"
  }
 },
 "nbformat": 4,
 "nbformat_minor": 5
}
