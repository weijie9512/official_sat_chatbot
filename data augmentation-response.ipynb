{
 "cells": [
  {
   "cell_type": "code",
   "execution_count": 1,
   "metadata": {},
   "outputs": [],
   "source": [
    "from prepare_data import paraphrase"
   ]
  },
  {
   "cell_type": "code",
   "execution_count": 2,
   "metadata": {},
   "outputs": [],
   "source": [
    "import torch\n",
    "import pandas as pd"
   ]
  },
  {
   "cell_type": "code",
   "execution_count": 3,
   "metadata": {},
   "outputs": [],
   "source": [
    "df = pd.read_csv(\"data/sat_data.csv\", index_col=0)"
   ]
  },
  {
   "cell_type": "code",
   "execution_count": 4,
   "metadata": {},
   "outputs": [
    {
     "data": {
      "text/html": [
       "<div>\n",
       "<style scoped>\n",
       "    .dataframe tbody tr th:only-of-type {\n",
       "        vertical-align: middle;\n",
       "    }\n",
       "\n",
       "    .dataframe tbody tr th {\n",
       "        vertical-align: top;\n",
       "    }\n",
       "\n",
       "    .dataframe thead th {\n",
       "        text-align: right;\n",
       "    }\n",
       "</style>\n",
       "<table border=\"1\" class=\"dataframe\">\n",
       "  <thead>\n",
       "    <tr style=\"text-align: right;\">\n",
       "      <th></th>\n",
       "      <th>A01</th>\n",
       "      <th>A02</th>\n",
       "      <th>A03</th>\n",
       "      <th>A04</th>\n",
       "      <th>A05</th>\n",
       "      <th>A06</th>\n",
       "      <th>A07</th>\n",
       "      <th>A08</th>\n",
       "      <th>A09</th>\n",
       "      <th>A10</th>\n",
       "      <th>...</th>\n",
       "      <th>B02</th>\n",
       "      <th>B03</th>\n",
       "      <th>B04</th>\n",
       "      <th>B05</th>\n",
       "      <th>B06</th>\n",
       "      <th>B07</th>\n",
       "      <th>B08</th>\n",
       "      <th>B09</th>\n",
       "      <th>B10</th>\n",
       "      <th>Optional</th>\n",
       "    </tr>\n",
       "    <tr>\n",
       "      <th>Timestamp</th>\n",
       "      <th></th>\n",
       "      <th></th>\n",
       "      <th></th>\n",
       "      <th></th>\n",
       "      <th></th>\n",
       "      <th></th>\n",
       "      <th></th>\n",
       "      <th></th>\n",
       "      <th></th>\n",
       "      <th></th>\n",
       "      <th></th>\n",
       "      <th></th>\n",
       "      <th></th>\n",
       "      <th></th>\n",
       "      <th></th>\n",
       "      <th></th>\n",
       "      <th></th>\n",
       "      <th></th>\n",
       "      <th></th>\n",
       "      <th></th>\n",
       "      <th></th>\n",
       "    </tr>\n",
       "  </thead>\n",
       "  <tbody>\n",
       "    <tr>\n",
       "      <th>Timestamp</th>\n",
       "      <td>How do you feel?</td>\n",
       "      <td>Can I know if the predicted emotion is correct?</td>\n",
       "      <td>Is the emotion positive or negative?</td>\n",
       "      <td>Let us practice &lt;Exercise 13&gt; to overcome nega...</td>\n",
       "      <td>Do you feel compassionate toward your &lt;childho...</td>\n",
       "      <td>Amazing! Do you feel you want to protect your ...</td>\n",
       "      <td>Congratulations! You have shown &lt;tender compas...</td>\n",
       "      <td>Congratulations! You have shown &lt;foresighted c...</td>\n",
       "      <td>Now, it is time to bring compassion to the nex...</td>\n",
       "      <td>Now it is time for you to use your compassion ...</td>\n",
       "      <td>...</td>\n",
       "      <td>Understand that there are 2 types of compassio...</td>\n",
       "      <td>This is fine! This is exactly the reason this ...</td>\n",
       "      <td>To feel compassionate towards the &lt;childhood s...</td>\n",
       "      <td>Do you form a closer connection with the &lt;chil...</td>\n",
       "      <td>Amazing! You have accomplished the first goal!...</td>\n",
       "      <td>Okay, shall we do &lt;ESA&gt; or end the session?</td>\n",
       "      <td>Now that you feel you have successfully formed...</td>\n",
       "      <td>Do you feel love and a stronger urge to protec...</td>\n",
       "      <td>Congratulations! You have shown &lt;tender compas...</td>\n",
       "      <td>(OPTIONAL) If there is anything you would like...</td>\n",
       "    </tr>\n",
       "    <tr>\n",
       "      <th>7/15/2022 14:12:04</th>\n",
       "      <td>How are you feeling?</td>\n",
       "      <td>Is the predicted emotion correct?</td>\n",
       "      <td>Do you feel more positive or negative?</td>\n",
       "      <td>Let us start practicing Exercise 13 to overcom...</td>\n",
       "      <td>Do you feel you are compassionate towards your...</td>\n",
       "      <td>Great job! Do you feel like you want to protec...</td>\n",
       "      <td>Congratulations! You have shown tender compass...</td>\n",
       "      <td>Congratulations! You have shown foresighted co...</td>\n",
       "      <td>Now, let us bring compassion to next level. Pl...</td>\n",
       "      <td>Now it is time to use compassion energy meanin...</td>\n",
       "      <td>...</td>\n",
       "      <td>There are 2 types of compassion. &lt;Tender compa...</td>\n",
       "      <td>This is okay! This is exactly the reason this ...</td>\n",
       "      <td>To feel compassion towards the child, first we...</td>\n",
       "      <td>Have you formed a closer connection with the c...</td>\n",
       "      <td>Great job! You have accomplished the first goa...</td>\n",
       "      <td>Noted, shall we do &lt;ESA&gt; or end the session?</td>\n",
       "      <td>Now that you feel you have successfully formed...</td>\n",
       "      <td>Do you feel a stronger urge to protect your ch...</td>\n",
       "      <td>Congratulations! You have shown &lt;tender compas...</td>\n",
       "      <td>NaN</td>\n",
       "    </tr>\n",
       "    <tr>\n",
       "      <th>7/16/2022 5:39:23</th>\n",
       "      <td>How are you feeling today?</td>\n",
       "      <td>What do you think about the results? Do you th...</td>\n",
       "      <td>Do you think that you are feeling more positiv...</td>\n",
       "      <td>Now, let's take a moment to go through Exercis...</td>\n",
       "      <td>Looking back, how do you view your childhood s...</td>\n",
       "      <td>That's wonderful to hear. Between protecting y...</td>\n",
       "      <td>Good news! You have clearly demonstrated some ...</td>\n",
       "      <td>How lovely! You have strong feelings of foresi...</td>\n",
       "      <td>Let's take a step further to develop ourselves...</td>\n",
       "      <td>Why don't we put your compassion skills to goo...</td>\n",
       "      <td>...</td>\n",
       "      <td>There are two types of compassion that we may ...</td>\n",
       "      <td>Don't worry, we're here to help! We'll be with...</td>\n",
       "      <td>To feel compassion towards the child, first we...</td>\n",
       "      <td>Are you feeling more connected with the child?</td>\n",
       "      <td>Wow! You've successfully completed your first ...</td>\n",
       "      <td>Let's do a quick check-in. How are we doing? W...</td>\n",
       "      <td>I'm proud of you! You've managed to form a dee...</td>\n",
       "      <td>Are you filled with love? Do you feel a strong...</td>\n",
       "      <td>Well done! You are full of tender compassion. ...</td>\n",
       "      <td>NaN</td>\n",
       "    </tr>\n",
       "    <tr>\n",
       "      <th>7/17/2022 18:07:21</th>\n",
       "      <td>How are you doing?</td>\n",
       "      <td>Did I predict the right emotion?</td>\n",
       "      <td>Do you feel good or bad?</td>\n",
       "      <td>Let's try Exercise 13 to see if it helps!</td>\n",
       "      <td>Do you feel compassion towards your childhood ...</td>\n",
       "      <td>Great job! Do you feel like protecting your ch...</td>\n",
       "      <td>Nice job! You've shown tender compassion. It i...</td>\n",
       "      <td>GOod job! You've shown foresighted compassion ...</td>\n",
       "      <td>Now let's bring your compassion up to the next...</td>\n",
       "      <td>Time to use your compassion for good in the re...</td>\n",
       "      <td>...</td>\n",
       "      <td>There are two forms of compassion. &lt;Tender com...</td>\n",
       "      <td>That's all right! This is why we're here—to he...</td>\n",
       "      <td>To feel compassion towards the child, first we...</td>\n",
       "      <td>Do you feel more connected to the child?</td>\n",
       "      <td>Fantastic! That's the first goal out of the wa...</td>\n",
       "      <td>Ok, shall we do &lt;ESA&gt; or end the session?</td>\n",
       "      <td>Now that you've successfully connected with th...</td>\n",
       "      <td>Do you love your child and feel a stronger urg...</td>\n",
       "      <td>Congratulations! You've shown tender compassio...</td>\n",
       "      <td>NaN</td>\n",
       "    </tr>\n",
       "    <tr>\n",
       "      <th>7/18/2022 1:24:59</th>\n",
       "      <td>How are you feeling right now?</td>\n",
       "      <td>Did I guess your emotion correctly?</td>\n",
       "      <td>Are you feeling positive or negative?</td>\n",
       "      <td>Let’s do &lt;Exercise 13&gt; together to get over th...</td>\n",
       "      <td>How are you feeling about your childhood?</td>\n",
       "      <td>Cool! Do you feel like protecting your childho...</td>\n",
       "      <td>Congrats! You have displayed tender compassion...</td>\n",
       "      <td>Congrats! You displayed foresighted compassion...</td>\n",
       "      <td>Next on, to further develop foresighted compas...</td>\n",
       "      <td>Time to use your compassion energy to do meani...</td>\n",
       "      <td>...</td>\n",
       "      <td>You understood that there are 2 types of compa...</td>\n",
       "      <td>That’s ok! This is what I am here for. To help...</td>\n",
       "      <td>To feel compassionate towards the child, we fi...</td>\n",
       "      <td>Are you feeling more connected with the child?</td>\n",
       "      <td>Great! You have completed the first goal. But,...</td>\n",
       "      <td>Ok, wanna do ESA or end the session?</td>\n",
       "      <td>Seems like you have successfully formed a clos...</td>\n",
       "      <td>Are you feeling love and stronger urge to prot...</td>\n",
       "      <td>Great! You have displayed tender compassion. T...</td>\n",
       "      <td>NaN</td>\n",
       "    </tr>\n",
       "  </tbody>\n",
       "</table>\n",
       "<p>5 rows × 21 columns</p>\n",
       "</div>"
      ],
      "text/plain": [
       "                                               A01  \\\n",
       "Timestamp                                            \n",
       "Timestamp                         How do you feel?   \n",
       "7/15/2022 14:12:04            How are you feeling?   \n",
       "7/16/2022 5:39:23       How are you feeling today?   \n",
       "7/17/2022 18:07:21              How are you doing?   \n",
       "7/18/2022 1:24:59   How are you feeling right now?   \n",
       "\n",
       "                                                                  A02  \\\n",
       "Timestamp                                                               \n",
       "Timestamp             Can I know if the predicted emotion is correct?   \n",
       "7/15/2022 14:12:04                  Is the predicted emotion correct?   \n",
       "7/16/2022 5:39:23   What do you think about the results? Do you th...   \n",
       "7/17/2022 18:07:21                   Did I predict the right emotion?   \n",
       "7/18/2022 1:24:59                 Did I guess your emotion correctly?   \n",
       "\n",
       "                                                                  A03  \\\n",
       "Timestamp                                                               \n",
       "Timestamp                        Is the emotion positive or negative?   \n",
       "7/15/2022 14:12:04             Do you feel more positive or negative?   \n",
       "7/16/2022 5:39:23   Do you think that you are feeling more positiv...   \n",
       "7/17/2022 18:07:21                           Do you feel good or bad?   \n",
       "7/18/2022 1:24:59               Are you feeling positive or negative?   \n",
       "\n",
       "                                                                  A04  \\\n",
       "Timestamp                                                               \n",
       "Timestamp           Let us practice <Exercise 13> to overcome nega...   \n",
       "7/15/2022 14:12:04  Let us start practicing Exercise 13 to overcom...   \n",
       "7/16/2022 5:39:23   Now, let's take a moment to go through Exercis...   \n",
       "7/17/2022 18:07:21          Let's try Exercise 13 to see if it helps!   \n",
       "7/18/2022 1:24:59   Let’s do <Exercise 13> together to get over th...   \n",
       "\n",
       "                                                                  A05  \\\n",
       "Timestamp                                                               \n",
       "Timestamp           Do you feel compassionate toward your <childho...   \n",
       "7/15/2022 14:12:04  Do you feel you are compassionate towards your...   \n",
       "7/16/2022 5:39:23   Looking back, how do you view your childhood s...   \n",
       "7/17/2022 18:07:21  Do you feel compassion towards your childhood ...   \n",
       "7/18/2022 1:24:59           How are you feeling about your childhood?   \n",
       "\n",
       "                                                                  A06  \\\n",
       "Timestamp                                                               \n",
       "Timestamp           Amazing! Do you feel you want to protect your ...   \n",
       "7/15/2022 14:12:04  Great job! Do you feel like you want to protec...   \n",
       "7/16/2022 5:39:23   That's wonderful to hear. Between protecting y...   \n",
       "7/17/2022 18:07:21  Great job! Do you feel like protecting your ch...   \n",
       "7/18/2022 1:24:59   Cool! Do you feel like protecting your childho...   \n",
       "\n",
       "                                                                  A07  \\\n",
       "Timestamp                                                               \n",
       "Timestamp           Congratulations! You have shown <tender compas...   \n",
       "7/15/2022 14:12:04  Congratulations! You have shown tender compass...   \n",
       "7/16/2022 5:39:23   Good news! You have clearly demonstrated some ...   \n",
       "7/17/2022 18:07:21  Nice job! You've shown tender compassion. It i...   \n",
       "7/18/2022 1:24:59   Congrats! You have displayed tender compassion...   \n",
       "\n",
       "                                                                  A08  \\\n",
       "Timestamp                                                               \n",
       "Timestamp           Congratulations! You have shown <foresighted c...   \n",
       "7/15/2022 14:12:04  Congratulations! You have shown foresighted co...   \n",
       "7/16/2022 5:39:23   How lovely! You have strong feelings of foresi...   \n",
       "7/17/2022 18:07:21  GOod job! You've shown foresighted compassion ...   \n",
       "7/18/2022 1:24:59   Congrats! You displayed foresighted compassion...   \n",
       "\n",
       "                                                                  A09  \\\n",
       "Timestamp                                                               \n",
       "Timestamp           Now, it is time to bring compassion to the nex...   \n",
       "7/15/2022 14:12:04  Now, let us bring compassion to next level. Pl...   \n",
       "7/16/2022 5:39:23   Let's take a step further to develop ourselves...   \n",
       "7/17/2022 18:07:21  Now let's bring your compassion up to the next...   \n",
       "7/18/2022 1:24:59   Next on, to further develop foresighted compas...   \n",
       "\n",
       "                                                                  A10  ...  \\\n",
       "Timestamp                                                              ...   \n",
       "Timestamp           Now it is time for you to use your compassion ...  ...   \n",
       "7/15/2022 14:12:04  Now it is time to use compassion energy meanin...  ...   \n",
       "7/16/2022 5:39:23   Why don't we put your compassion skills to goo...  ...   \n",
       "7/17/2022 18:07:21  Time to use your compassion for good in the re...  ...   \n",
       "7/18/2022 1:24:59   Time to use your compassion energy to do meani...  ...   \n",
       "\n",
       "                                                                  B02  \\\n",
       "Timestamp                                                               \n",
       "Timestamp           Understand that there are 2 types of compassio...   \n",
       "7/15/2022 14:12:04  There are 2 types of compassion. <Tender compa...   \n",
       "7/16/2022 5:39:23   There are two types of compassion that we may ...   \n",
       "7/17/2022 18:07:21  There are two forms of compassion. <Tender com...   \n",
       "7/18/2022 1:24:59   You understood that there are 2 types of compa...   \n",
       "\n",
       "                                                                  B03  \\\n",
       "Timestamp                                                               \n",
       "Timestamp           This is fine! This is exactly the reason this ...   \n",
       "7/15/2022 14:12:04  This is okay! This is exactly the reason this ...   \n",
       "7/16/2022 5:39:23   Don't worry, we're here to help! We'll be with...   \n",
       "7/17/2022 18:07:21  That's all right! This is why we're here—to he...   \n",
       "7/18/2022 1:24:59   That’s ok! This is what I am here for. To help...   \n",
       "\n",
       "                                                                  B04  \\\n",
       "Timestamp                                                               \n",
       "Timestamp           To feel compassionate towards the <childhood s...   \n",
       "7/15/2022 14:12:04  To feel compassion towards the child, first we...   \n",
       "7/16/2022 5:39:23   To feel compassion towards the child, first we...   \n",
       "7/17/2022 18:07:21  To feel compassion towards the child, first we...   \n",
       "7/18/2022 1:24:59   To feel compassionate towards the child, we fi...   \n",
       "\n",
       "                                                                  B05  \\\n",
       "Timestamp                                                               \n",
       "Timestamp           Do you form a closer connection with the <chil...   \n",
       "7/15/2022 14:12:04  Have you formed a closer connection with the c...   \n",
       "7/16/2022 5:39:23      Are you feeling more connected with the child?   \n",
       "7/17/2022 18:07:21           Do you feel more connected to the child?   \n",
       "7/18/2022 1:24:59      Are you feeling more connected with the child?   \n",
       "\n",
       "                                                                  B06  \\\n",
       "Timestamp                                                               \n",
       "Timestamp           Amazing! You have accomplished the first goal!...   \n",
       "7/15/2022 14:12:04  Great job! You have accomplished the first goa...   \n",
       "7/16/2022 5:39:23   Wow! You've successfully completed your first ...   \n",
       "7/17/2022 18:07:21  Fantastic! That's the first goal out of the wa...   \n",
       "7/18/2022 1:24:59   Great! You have completed the first goal. But,...   \n",
       "\n",
       "                                                                  B07  \\\n",
       "Timestamp                                                               \n",
       "Timestamp                 Okay, shall we do <ESA> or end the session?   \n",
       "7/15/2022 14:12:04       Noted, shall we do <ESA> or end the session?   \n",
       "7/16/2022 5:39:23   Let's do a quick check-in. How are we doing? W...   \n",
       "7/17/2022 18:07:21          Ok, shall we do <ESA> or end the session?   \n",
       "7/18/2022 1:24:59                Ok, wanna do ESA or end the session?   \n",
       "\n",
       "                                                                  B08  \\\n",
       "Timestamp                                                               \n",
       "Timestamp           Now that you feel you have successfully formed...   \n",
       "7/15/2022 14:12:04  Now that you feel you have successfully formed...   \n",
       "7/16/2022 5:39:23   I'm proud of you! You've managed to form a dee...   \n",
       "7/17/2022 18:07:21  Now that you've successfully connected with th...   \n",
       "7/18/2022 1:24:59   Seems like you have successfully formed a clos...   \n",
       "\n",
       "                                                                  B09  \\\n",
       "Timestamp                                                               \n",
       "Timestamp           Do you feel love and a stronger urge to protec...   \n",
       "7/15/2022 14:12:04  Do you feel a stronger urge to protect your ch...   \n",
       "7/16/2022 5:39:23   Are you filled with love? Do you feel a strong...   \n",
       "7/17/2022 18:07:21  Do you love your child and feel a stronger urg...   \n",
       "7/18/2022 1:24:59   Are you feeling love and stronger urge to prot...   \n",
       "\n",
       "                                                                  B10  \\\n",
       "Timestamp                                                               \n",
       "Timestamp           Congratulations! You have shown <tender compas...   \n",
       "7/15/2022 14:12:04  Congratulations! You have shown <tender compas...   \n",
       "7/16/2022 5:39:23   Well done! You are full of tender compassion. ...   \n",
       "7/17/2022 18:07:21  Congratulations! You've shown tender compassio...   \n",
       "7/18/2022 1:24:59   Great! You have displayed tender compassion. T...   \n",
       "\n",
       "                                                             Optional  \n",
       "Timestamp                                                              \n",
       "Timestamp           (OPTIONAL) If there is anything you would like...  \n",
       "7/15/2022 14:12:04                                                NaN  \n",
       "7/16/2022 5:39:23                                                 NaN  \n",
       "7/17/2022 18:07:21                                                NaN  \n",
       "7/18/2022 1:24:59                                                 NaN  \n",
       "\n",
       "[5 rows x 21 columns]"
      ]
     },
     "execution_count": 4,
     "metadata": {},
     "output_type": "execute_result"
    }
   ],
   "source": [
    "df.head()"
   ]
  },
  {
   "cell_type": "code",
   "execution_count": 5,
   "metadata": {},
   "outputs": [
    {
     "name": "stdout",
     "output_type": "stream",
     "text": [
      "['Is the emotion positive or negative?'\n",
      " 'Do you feel more positive or negative?'\n",
      " 'Do you think that you are feeling more positively or negatively?'\n",
      " 'Do you feel good or bad?' 'Are you feeling positive or negative?'\n",
      " 'Is the emotion a positive one or a negative one?']\n"
     ]
    }
   ],
   "source": [
    "input_sentences = df['A03'].values\n",
    "print(input_sentences)"
   ]
  },
  {
   "cell_type": "code",
   "execution_count": 6,
   "metadata": {},
   "outputs": [
    {
     "data": {
      "text/plain": [
       "array(['A01', 'A02', 'A03', 'A04', 'A05', 'A06', 'A07', 'A08', 'A09',\n",
       "       'A10', 'B01', 'B02', 'B03', 'B04', 'B05', 'B06', 'B07', 'B08',\n",
       "       'B09', 'B10', 'Optional'], dtype=object)"
      ]
     },
     "execution_count": 6,
     "metadata": {},
     "output_type": "execute_result"
    }
   ],
   "source": [
    "df.columns.values"
   ]
  },
  {
   "cell_type": "code",
   "execution_count": 7,
   "metadata": {},
   "outputs": [],
   "source": [
    "df.drop(columns='Optional', inplace=True)"
   ]
  },
  {
   "cell_type": "markdown",
   "metadata": {},
   "source": [
    "## Paraphrase Machine"
   ]
  },
  {
   "cell_type": "code",
   "execution_count": 8,
   "metadata": {},
   "outputs": [],
   "source": [
    "pm = paraphrase.ParaphraseMachine()"
   ]
  },
  {
   "cell_type": "code",
   "execution_count": 12,
   "metadata": {},
   "outputs": [
    {
     "data": {
      "text/plain": [
       "['Is the emotion positive or negative?',\n",
       " 'Do you feel more positive or negative?',\n",
       " 'Do you think that you are feeling more positively or negatively?',\n",
       " 'Do you feel good or bad?',\n",
       " 'Are you feeling positive or negative?',\n",
       " 'Is the emotion a positive one or a negative one?']"
      ]
     },
     "execution_count": 12,
     "metadata": {},
     "output_type": "execute_result"
    }
   ],
   "source": [
    "list(input_sentences)"
   ]
  },
  {
   "cell_type": "code",
   "execution_count": 13,
   "metadata": {},
   "outputs": [
    {
     "name": "stdout",
     "output_type": "stream",
     "text": [
      "['Is the emotion positive or negative?', 'Do you feel positive or negative?', 'Do you think you are feeling more positively or negatively or positively?', 'Do you feel good or bad?', 'Are you positive or negative?', 'Is the emotion a positive one or a negative one?']\n"
     ]
    }
   ],
   "source": [
    "generated_sentence = pm.paraphrase(list(input_sentences), num_of_sentences=1)\n",
    "print(generated_sentence)"
   ]
  },
  {
   "cell_type": "markdown",
   "metadata": {},
   "source": [
    "## Backtranslation"
   ]
  },
  {
   "cell_type": "code",
   "execution_count": 47,
   "metadata": {},
   "outputs": [
    {
     "data": {
      "application/vnd.jupyter.widget-view+json": {
       "model_id": "056b5c99ad564f03821a85be7fa6d439",
       "version_major": 2,
       "version_minor": 0
      },
      "text/plain": [
       "Downloading:   0%|          | 0.00/784k [00:00<?, ?B/s]"
      ]
     },
     "metadata": {},
     "output_type": "display_data"
    },
    {
     "data": {
      "application/vnd.jupyter.widget-view+json": {
       "model_id": "9104b8d4ab3a449ab19581f518654b30",
       "version_major": 2,
       "version_minor": 0
      },
      "text/plain": [
       "Downloading:   0%|          | 0.00/823k [00:00<?, ?B/s]"
      ]
     },
     "metadata": {},
     "output_type": "display_data"
    },
    {
     "data": {
      "application/vnd.jupyter.widget-view+json": {
       "model_id": "8202689c8a7147468d211058139b18c8",
       "version_major": 2,
       "version_minor": 0
      },
      "text/plain": [
       "Downloading:   0%|          | 0.00/1.52M [00:00<?, ?B/s]"
      ]
     },
     "metadata": {},
     "output_type": "display_data"
    },
    {
     "data": {
      "application/vnd.jupyter.widget-view+json": {
       "model_id": "ab52d51eaf324bd2aefbcd010efddc62",
       "version_major": 2,
       "version_minor": 0
      },
      "text/plain": [
       "Downloading:   0%|          | 0.00/42.0 [00:00<?, ?B/s]"
      ]
     },
     "metadata": {},
     "output_type": "display_data"
    },
    {
     "data": {
      "application/vnd.jupyter.widget-view+json": {
       "model_id": "a96e57ff649347e2a0ff098aba2473a7",
       "version_major": 2,
       "version_minor": 0
      },
      "text/plain": [
       "Downloading:   0%|          | 0.00/1.09k [00:00<?, ?B/s]"
      ]
     },
     "metadata": {},
     "output_type": "display_data"
    },
    {
     "data": {
      "application/vnd.jupyter.widget-view+json": {
       "model_id": "8526d8feb0cc40258ad1c4261d8246a8",
       "version_major": 2,
       "version_minor": 0
      },
      "text/plain": [
       "Downloading:   0%|          | 0.00/298M [00:00<?, ?B/s]"
      ]
     },
     "metadata": {},
     "output_type": "display_data"
    },
    {
     "data": {
      "application/vnd.jupyter.widget-view+json": {
       "model_id": "c77a61093196401b85299a188dad4402",
       "version_major": 2,
       "version_minor": 0
      },
      "text/plain": [
       "Downloading:   0%|          | 0.00/812k [00:00<?, ?B/s]"
      ]
     },
     "metadata": {},
     "output_type": "display_data"
    },
    {
     "data": {
      "application/vnd.jupyter.widget-view+json": {
       "model_id": "246418d02c77483893bf0cd464d9ba70",
       "version_major": 2,
       "version_minor": 0
      },
      "text/plain": [
       "Downloading:   0%|          | 0.00/771k [00:00<?, ?B/s]"
      ]
     },
     "metadata": {},
     "output_type": "display_data"
    },
    {
     "data": {
      "application/vnd.jupyter.widget-view+json": {
       "model_id": "12250f9b67794c6cb30119810f46892d",
       "version_major": 2,
       "version_minor": 0
      },
      "text/plain": [
       "Downloading:   0%|          | 0.00/1.31M [00:00<?, ?B/s]"
      ]
     },
     "metadata": {},
     "output_type": "display_data"
    },
    {
     "data": {
      "application/vnd.jupyter.widget-view+json": {
       "model_id": "cfbea5f2d42e463e9f19e8f583f2c84f",
       "version_major": 2,
       "version_minor": 0
      },
      "text/plain": [
       "Downloading:   0%|          | 0.00/44.0 [00:00<?, ?B/s]"
      ]
     },
     "metadata": {},
     "output_type": "display_data"
    },
    {
     "data": {
      "application/vnd.jupyter.widget-view+json": {
       "model_id": "825255573b384b668f31ef0e715973b8",
       "version_major": 2,
       "version_minor": 0
      },
      "text/plain": [
       "Downloading:   0%|          | 0.00/1.12k [00:00<?, ?B/s]"
      ]
     },
     "metadata": {},
     "output_type": "display_data"
    },
    {
     "data": {
      "application/vnd.jupyter.widget-view+json": {
       "model_id": "4f4071284c174b758e6f3491867a4740",
       "version_major": 2,
       "version_minor": 0
      },
      "text/plain": [
       "Downloading:   0%|          | 0.00/287M [00:00<?, ?B/s]"
      ]
     },
     "metadata": {},
     "output_type": "display_data"
    }
   ],
   "source": [
    "src = \"en\"\n",
    "tgt = \"fi\"\n",
    "bm = paraphrase.BacktranslationMachine(src=src, tgt=tgt)"
   ]
  },
  {
   "cell_type": "code",
   "execution_count": 48,
   "metadata": {},
   "outputs": [
    {
     "name": "stdout",
     "output_type": "stream",
     "text": [
      "['How are you feeling today?'\n",
      " 'What do you think about the results? Do you think that the predicted mood captures how you are feeling?'\n",
      " 'Do you think that you are feeling more positively or negatively?'\n",
      " \"Now, let's take a moment to go through Exercise 13 so that I can help you better understand how to overcome any negative feelings that you might be experiencing.\"\n",
      " 'Looking back, how do you view your childhood self? Are you being kind to your younger self?']\n"
     ]
    }
   ],
   "source": [
    "input_sentence = input_sentences\n",
    "print(input_sentence[:5])"
   ]
  },
  {
   "cell_type": "code",
   "execution_count": 55,
   "metadata": {},
   "outputs": [],
   "source": [
    "#input_sentence = [\"This is fine! This is exactly the reason this chatbot is created! We aim to develop compassion for you! Let us begin! \"]\n",
    "generated_sentence = bm.backtranslation(input_sentence)\n"
   ]
  },
  {
   "cell_type": "code",
   "execution_count": 56,
   "metadata": {},
   "outputs": [
    {
     "name": "stdout",
     "output_type": "stream",
     "text": [
      "['Do you want another exercise to work on the {dicotomy, e.g. extravert or introvert} attribute? My suggestions are quite limited, but I will continue to work on it in the same way that you work to improve your creative potential.']\n"
     ]
    }
   ],
   "source": [
    "print(generated_sentence[:5])"
   ]
  },
  {
   "cell_type": "code",
   "execution_count": 28,
   "metadata": {},
   "outputs": [],
   "source": [
    "def loop_data(df, loop_type=\"bm\", row_n = 1, save_data=True):\n",
    "    if loop_type.lower() == \"bm\":\n",
    "        src = \"en\"\n",
    "        tgt = \"fi\"\n",
    "        bm = paraphrase.BacktranslationMachine(src=src, tgt=tgt)\n",
    "        columns = df.columns.values\n",
    "        input_sentences = df.iloc[row_n].values\n",
    "        generated_sentence = bm.backtranslation(input_sentences)\n",
    "        df2 = pd.DataFrame(generated_sentence).T\n",
    "        df2.columns = list(df.columns.values)\n",
    "        #frames = [df, df2]\n",
    "        #df2 = pd.concat(frames)\n",
    "\n",
    "    else:\n",
    "        pm = paraphrase.ParaphraseMachine()\n",
    "        columns = df.columns.values\n",
    "        input_sentences = df.iloc[row_n].values\n",
    "        generated_sentence = pm.paraphrase(list(input_sentences), num_of_sentences=1)\n",
    "        df2 = pd.DataFrame(generated_sentence).T\n",
    "        df2.columns = list(df.columns.values)\n",
    "        #frames = [df, df2]\n",
    "        #df2 = pd.concat(frames)\n",
    "        \n",
    "        \n",
    "    if save_data:\n",
    "        df2.to_csv(f\"data/sat_{loop_type}_paraphrased_data.csv\", mode='a', header=False)\n",
    "        #df2.to_csv(f\"sat_{loop_type}_paraphrased_data.csv\")\n",
    "    return f\"Done paraphrasing data with {loop_type} machine.\"\n",
    "        "
   ]
  },
  {
   "cell_type": "code",
   "execution_count": 29,
   "metadata": {},
   "outputs": [
    {
     "data": {
      "text/plain": [
       "'Done paraphrasing data with pm machine.'"
      ]
     },
     "execution_count": 29,
     "metadata": {},
     "output_type": "execute_result"
    }
   ],
   "source": [
    "loop_data(df, loop_type=\"pm\", row_n = 2)"
   ]
  },
  {
   "cell_type": "code",
   "execution_count": null,
   "metadata": {},
   "outputs": [],
   "source": []
  }
 ],
 "metadata": {
  "kernelspec": {
   "display_name": "Python 3 (ipykernel)",
   "language": "python",
   "name": "python3"
  },
  "language_info": {
   "codemirror_mode": {
    "name": "ipython",
    "version": 3
   },
   "file_extension": ".py",
   "mimetype": "text/x-python",
   "name": "python",
   "nbconvert_exporter": "python",
   "pygments_lexer": "ipython3",
   "version": "3.8.13"
  },
  "vscode": {
   "interpreter": {
    "hash": "9f7d6bfbbfb12035ddc13f1c3611686e65764e90c5bb4c604c9a5fa7456b9f5b"
   }
  }
 },
 "nbformat": 4,
 "nbformat_minor": 2
}
